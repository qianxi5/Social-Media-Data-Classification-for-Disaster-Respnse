{
  "nbformat": 4,
  "nbformat_minor": 0,
  "metadata": {
    "colab": {
      "name": "CDSProjectStarter.ipynb",
      "provenance": [],
      "collapsed_sections": [
        "WoimWQeiunjk",
        "q1XvXcKFMZnh",
        "FoZ_RFdPMfGT"
      ]
    },
    "kernelspec": {
      "name": "python3",
      "display_name": "Python 3"
    },
    "language_info": {
      "name": "python"
    }
  },
  "cells": [
    {
      "cell_type": "code",
      "metadata": {
        "colab": {
          "base_uri": "https://localhost:8080/"
        },
        "id": "4tf1hh1wNraZ",
        "outputId": "37155ab4-d2af-47b9-bcae-2f9c06f30236"
      },
      "source": [
        "! wget 'https://crisisnlp.qcri.org/data/crisismmd/crisismmd_datasplit_all.zip'"
      ],
      "execution_count": null,
      "outputs": [
        {
          "output_type": "stream",
          "name": "stdout",
          "text": [
            "--2021-11-23 03:41:18--  https://crisisnlp.qcri.org/data/crisismmd/crisismmd_datasplit_all.zip\n",
            "Resolving crisisnlp.qcri.org (crisisnlp.qcri.org)... 80.76.166.234\n",
            "Connecting to crisisnlp.qcri.org (crisisnlp.qcri.org)|80.76.166.234|:443... connected.\n",
            "HTTP request sent, awaiting response... 200 OK\n",
            "Length: 3072270 (2.9M) [application/zip]\n",
            "Saving to: ‘crisismmd_datasplit_all.zip’\n",
            "\n",
            "crisismmd_datasplit 100%[===================>]   2.93M  2.27MB/s    in 1.3s    \n",
            "\n",
            "2021-11-23 03:41:21 (2.27 MB/s) - ‘crisismmd_datasplit_all.zip’ saved [3072270/3072270]\n",
            "\n"
          ]
        }
      ]
    },
    {
      "cell_type": "code",
      "metadata": {
        "colab": {
          "base_uri": "https://localhost:8080/"
        },
        "id": "wHYJKUvqANFd",
        "outputId": "574acfd6-9732-4409-b14e-928640879dca"
      },
      "source": [
        "! unzip './crisismmd_datasplit_all.zip' "
      ],
      "execution_count": null,
      "outputs": [
        {
          "output_type": "stream",
          "name": "stdout",
          "text": [
            "Archive:  ./crisismmd_datasplit_all.zip\n",
            "   creating: crisismmd_datasplit_all/\n",
            "  inflating: __MACOSX/._crisismmd_datasplit_all  \n",
            "  inflating: crisismmd_datasplit_all/task_informative_text_img_train.tsv  \n",
            "  inflating: __MACOSX/crisismmd_datasplit_all/._task_informative_text_img_train.tsv  \n",
            "  inflating: crisismmd_datasplit_all/task_damage_text_img_train.tsv  \n",
            "  inflating: __MACOSX/crisismmd_datasplit_all/._task_damage_text_img_train.tsv  \n",
            "  inflating: crisismmd_datasplit_all/task_damage_text_img_test.tsv  \n",
            "  inflating: crisismmd_datasplit_all/task_informative_text_img_test.tsv  \n",
            "  inflating: __MACOSX/crisismmd_datasplit_all/._task_informative_text_img_test.tsv  \n",
            "  inflating: crisismmd_datasplit_all/task_damage_text_img_dev.tsv  \n",
            "  inflating: crisismmd_datasplit_all/task_informative_text_img_dev.tsv  \n",
            "  inflating: __MACOSX/crisismmd_datasplit_all/._task_informative_text_img_dev.tsv  \n",
            "  inflating: crisismmd_datasplit_all/task_humanitarian_text_img_test.tsv  \n",
            "  inflating: __MACOSX/crisismmd_datasplit_all/._task_humanitarian_text_img_test.tsv  \n",
            "  inflating: crisismmd_datasplit_all/Readme.txt  \n",
            "  inflating: __MACOSX/crisismmd_datasplit_all/._Readme.txt  \n",
            "  inflating: crisismmd_datasplit_all/task_humanitarian_text_img_dev.tsv  \n",
            "  inflating: __MACOSX/crisismmd_datasplit_all/._task_humanitarian_text_img_dev.tsv  \n",
            "  inflating: crisismmd_datasplit_all/task_humanitarian_text_img_train.tsv  \n",
            "  inflating: __MACOSX/crisismmd_datasplit_all/._task_humanitarian_text_img_train.tsv  \n"
          ]
        }
      ]
    },
    {
      "cell_type": "code",
      "metadata": {
        "id": "os7Wq3KtAtGy"
      },
      "source": [
        "import pandas as pd"
      ],
      "execution_count": null,
      "outputs": []
    },
    {
      "cell_type": "code",
      "metadata": {
        "id": "s1cg_vn6Aw6X"
      },
      "source": [
        "df_dev = pd.read_csv('/content/crisismmd_datasplit_all/task_humanitarian_text_img_dev.tsv', sep='\\t')\n",
        "df_test = pd.read_csv('/content/crisismmd_datasplit_all/task_humanitarian_text_img_test.tsv', sep='\\t')\n",
        "df_train = pd.read_csv('/content/crisismmd_datasplit_all/task_humanitarian_text_img_train.tsv', sep='\\t')"
      ],
      "execution_count": null,
      "outputs": []
    },
    {
      "cell_type": "code",
      "metadata": {
        "id": "FHLz-a3fBMiq"
      },
      "source": [
        "df = pd.concat([df_train, df_dev, df_test])"
      ],
      "execution_count": null,
      "outputs": []
    },
    {
      "cell_type": "code",
      "metadata": {
        "id": "I2uV1HQ75ZFA"
      },
      "source": [
        "tmp = df.copy(deep=True)\n",
        "tmp['label_text']=tmp['label_text'].apply(lambda x: 'affected_individuals' if x=='missing_or_found_people'  else x)\n",
        "tmp['label_text']=tmp['label_text'].apply(lambda x: 'affected_individuals' if x=='injured_or_dead_people' else x)\n",
        "tmp['label_text']=tmp['label_text'].apply(lambda x: 'infrastructure_and_utility_damage' if x=='vehicle_damage' else x)\n",
        "tmp['label_image']=tmp['label_image'].apply(lambda x: 'affected_individuals' if x=='missing_or_found_people'  else x)\n",
        "tmp['label_image']=tmp['label_image'].apply(lambda x: 'affected_individuals' if x=='injured_or_dead_people' else x)\n",
        "tmp['label_image']=tmp['label_image'].apply(lambda x: 'infrastructure_and_utility_damage' if x=='vehicle_damage' else x)"
      ],
      "execution_count": null,
      "outputs": []
    },
    {
      "cell_type": "code",
      "metadata": {
        "colab": {
          "base_uri": "https://localhost:8080/",
          "height": 891
        },
        "id": "RKyJmsjA7wUG",
        "outputId": "6a0d621f-9dda-4c9e-960e-d1e4c238152d"
      },
      "source": [
        "import matplotlib.pyplot as plt\n",
        "plt.bar(tmp['label_text'].value_counts().sort_index().index, tmp['label_text'].value_counts(float).sort_index().values)\n",
        "plt.xticks(rotation='vertical')\n",
        "plt.show()\n",
        "\n",
        "plt.bar(tmp['label_image'].value_counts().sort_index().index, tmp['label_image'].value_counts(float).sort_index().values)\n",
        "plt.xticks(rotation='vertical')\n",
        "plt.show()"
      ],
      "execution_count": null,
      "outputs": [
        {
          "output_type": "display_data",
          "data": {
            "image/png": "[encoded data removed]",
            "text/plain": [
              "<Figure size 432x288 with 1 Axes>"
            ]
          },
          "metadata": {
            "needs_background": "light"
          }
        },
        {
          "output_type": "display_data",
          "data": {
            "image/png": "[encoded data removed]",
            "text/plain": [
              "<Figure size 432x288 with 1 Axes>"
            ]
          },
          "metadata": {
            "needs_background": "light"
          }
        }
      ]
    },
    {
      "cell_type": "code",
      "metadata": {
        "colab": {
          "base_uri": "https://localhost:8080/"
        },
        "id": "_ViTz7J14jE3",
        "outputId": "8d39047d-6950-4990-a9c1-82bce3e6426f"
      },
      "source": [
        "neg = tmp[tmp['label_text_image']=='Negative']\n",
        "neg['combined'] = neg['label_text']+neg['label_image']\n",
        "neg = neg[(neg['combined']!='affected_individualsaffected_individuals') & (neg['combined']!='infrastructure_and_utility_damageinfrastructure_and_utility_damage')]"
      ],
      "execution_count": null,
      "outputs": [
        {
          "output_type": "stream",
          "name": "stderr",
          "text": [
            "/usr/local/lib/python3.7/dist-packages/ipykernel_launcher.py:2: SettingWithCopyWarning: \n",
            "A value is trying to be set on a copy of a slice from a DataFrame.\n",
            "Try using .loc[row_indexer,col_indexer] = value instead\n",
            "\n",
            "See the caveats in the documentation: https://pandas.pydata.org/pandas-docs/stable/user_guide/indexing.html#returning-a-view-versus-a-copy\n",
            "  \n"
          ]
        }
      ]
    },
    {
      "cell_type": "code",
      "metadata": {
        "colab": {
          "base_uri": "https://localhost:8080/"
        },
        "id": "mS9Pj-S64w7K",
        "outputId": "6f677f0a-62c6-4a40-c7e1-04aaa464bf9e"
      },
      "source": [
        "combined = neg.combined.value_counts()\n",
        "combined.sort_index()"
      ],
      "execution_count": null,
      "outputs": [
        {
          "output_type": "execute_result",
          "data": {
            "text/plain": [
              "affected_individualsinfrastructure_and_utility_damage                       392\n",
              "affected_individualsnot_humanitarian                                        311\n",
              "affected_individualsother_relevant_information                               96\n",
              "affected_individualsrescue_volunteering_or_donation_effort                  164\n",
              "infrastructure_and_utility_damageaffected_individuals                        61\n",
              "infrastructure_and_utility_damagenot_humanitarian                           337\n",
              "infrastructure_and_utility_damageother_relevant_information                 145\n",
              "infrastructure_and_utility_damagerescue_volunteering_or_donation_effort     106\n",
              "not_humanitarianaffected_individuals                                         68\n",
              "not_humanitarianinfrastructure_and_utility_damage                           441\n",
              "not_humanitarianother_relevant_information                                  269\n",
              "not_humanitarianrescue_volunteering_or_donation_effort                      165\n",
              "other_relevant_informationaffected_individuals                              278\n",
              "other_relevant_informationinfrastructure_and_utility_damage                1676\n",
              "other_relevant_informationnot_humanitarian                                 2189\n",
              "other_relevant_informationrescue_volunteering_or_donation_effort            609\n",
              "rescue_volunteering_or_donation_effortaffected_individuals                  150\n",
              "rescue_volunteering_or_donation_effortinfrastructure_and_utility_damage     577\n",
              "rescue_volunteering_or_donation_effortnot_humanitarian                     1594\n",
              "rescue_volunteering_or_donation_effortother_relevant_information            266\n",
              "Name: combined, dtype: int64"
            ]
          },
          "metadata": {},
          "execution_count": 27
        }
      ]
    },
    {
      "cell_type": "code",
      "metadata": {
        "id": "PFeF0oZh4Xpr"
      },
      "source": [
        "textimg = df.groupby(by=['tweet_id']).count()['image_id'].rename('len_image')\n",
        "df = df.join(textimg, on='tweet_id')\n",
        "df['len_text'] = df['tweet_text'].apply(lambda x: len(x.split()))"
      ],
      "execution_count": null,
      "outputs": []
    },
    {
      "cell_type": "code",
      "metadata": {
        "id": "s8SOhVk0ALVj"
      },
      "source": [
        "manyimg = df[(df['len_image']>1) & (df['label_text_image']=='Negative')]\n",
        "# manyimg['agreement'] = 1\n",
        "\n",
        "disagree = []\n",
        "for id in manyimg['tweet_id'].unique():\n",
        "  val = manyimg.iloc[list(manyimg['tweet_id']==id)]['label_image'].value_counts(float).max()\n",
        "  if val<1:\n",
        "    # print(id, val)\n",
        "    disagree.append([id, val])\n",
        "\n",
        "manyimg = manyimg.join(pd.DataFrame(disagree, columns=['tweet_id', 'agreement']).set_index('tweet_id'), on='tweet_id')"
      ],
      "execution_count": null,
      "outputs": []
    },
    {
      "cell_type": "code",
      "metadata": {
        "colab": {
          "base_uri": "https://localhost:8080/",
          "height": 1000
        },
        "id": "m4A0x_Z4JIGu",
        "outputId": "24510c9c-7a19-4795-abb7-b179cf65379c"
      },
      "source": [
        "manyimg['agreement'].fillna(1, inplace=True)\n",
        "manyimg"
      ],
      "execution_count": null,
      "outputs": [
        {
          "output_type": "execute_result",
          "data": {
            "text/html": [
              "<div>\n",
              "<style scoped>\n",
              "    .dataframe tbody tr th:only-of-type {\n",
              "        vertical-align: middle;\n",
              "    }\n",
              "\n",
              "    .dataframe tbody tr th {\n",
              "        vertical-align: top;\n",
              "    }\n",
              "\n",
              "    .dataframe thead th {\n",
              "        text-align: right;\n",
              "    }\n",
              "</style>\n",
              "<table border=\"1\" class=\"dataframe\">\n",
              "  <thead>\n",
              "    <tr style=\"text-align: right;\">\n",
              "      <th></th>\n",
              "      <th>event_name</th>\n",
              "      <th>tweet_id</th>\n",
              "      <th>image_id</th>\n",
              "      <th>tweet_text</th>\n",
              "      <th>image</th>\n",
              "      <th>label</th>\n",
              "      <th>label_text</th>\n",
              "      <th>label_image</th>\n",
              "      <th>label_text_image</th>\n",
              "      <th>len_text</th>\n",
              "      <th>len_image</th>\n",
              "      <th>agreement</th>\n",
              "    </tr>\n",
              "  </thead>\n",
              "  <tbody>\n",
              "    <tr>\n",
              "      <th>0</th>\n",
              "      <td>california_wildfires</td>\n",
              "      <td>917791291823591425</td>\n",
              "      <td>917791291823591425_1</td>\n",
              "      <td>RT @Cal_OES: PLS SHARE: Weâ€™re capturing wild...</td>\n",
              "      <td>data_image/california_wildfires/10_10_2017/917...</td>\n",
              "      <td>not_humanitarian</td>\n",
              "      <td>other_relevant_information</td>\n",
              "      <td>not_humanitarian</td>\n",
              "      <td>Negative</td>\n",
              "      <td>13</td>\n",
              "      <td>2</td>\n",
              "      <td>0.5</td>\n",
              "    </tr>\n",
              "    <tr>\n",
              "      <th>1</th>\n",
              "      <td>california_wildfires</td>\n",
              "      <td>917791291823591425</td>\n",
              "      <td>917791291823591425_0</td>\n",
              "      <td>RT @Cal_OES: PLS SHARE: Weâ€™re capturing wild...</td>\n",
              "      <td>data_image/california_wildfires/10_10_2017/917...</td>\n",
              "      <td>other_relevant_information</td>\n",
              "      <td>other_relevant_information</td>\n",
              "      <td>infrastructure_and_utility_damage</td>\n",
              "      <td>Negative</td>\n",
              "      <td>13</td>\n",
              "      <td>2</td>\n",
              "      <td>0.5</td>\n",
              "    </tr>\n",
              "    <tr>\n",
              "      <th>5</th>\n",
              "      <td>california_wildfires</td>\n",
              "      <td>917815040962695168</td>\n",
              "      <td>917815040962695168_1</td>\n",
              "      <td>RT @TheAtlantic: Photos of California's destru...</td>\n",
              "      <td>data_image/california_wildfires/10_10_2017/917...</td>\n",
              "      <td>vehicle_damage</td>\n",
              "      <td>infrastructure_and_utility_damage</td>\n",
              "      <td>vehicle_damage</td>\n",
              "      <td>Negative</td>\n",
              "      <td>11</td>\n",
              "      <td>3</td>\n",
              "      <td>0.5</td>\n",
              "    </tr>\n",
              "    <tr>\n",
              "      <th>6</th>\n",
              "      <td>california_wildfires</td>\n",
              "      <td>917815040962695168</td>\n",
              "      <td>917815040962695168_0</td>\n",
              "      <td>RT @TheAtlantic: Photos of California's destru...</td>\n",
              "      <td>data_image/california_wildfires/10_10_2017/917...</td>\n",
              "      <td>infrastructure_and_utility_damage</td>\n",
              "      <td>infrastructure_and_utility_damage</td>\n",
              "      <td>rescue_volunteering_or_donation_effort</td>\n",
              "      <td>Negative</td>\n",
              "      <td>11</td>\n",
              "      <td>3</td>\n",
              "      <td>0.5</td>\n",
              "    </tr>\n",
              "    <tr>\n",
              "      <th>15</th>\n",
              "      <td>california_wildfires</td>\n",
              "      <td>917832022017445888</td>\n",
              "      <td>917832022017445888_0</td>\n",
              "      <td>RT @Ciscokid__: Calistoga Fire #tubbsfire #nap...</td>\n",
              "      <td>data_image/california_wildfires/10_10_2017/917...</td>\n",
              "      <td>infrastructure_and_utility_damage</td>\n",
              "      <td>not_humanitarian</td>\n",
              "      <td>infrastructure_and_utility_damage</td>\n",
              "      <td>Negative</td>\n",
              "      <td>12</td>\n",
              "      <td>4</td>\n",
              "      <td>0.5</td>\n",
              "    </tr>\n",
              "    <tr>\n",
              "      <th>...</th>\n",
              "      <td>...</td>\n",
              "      <td>...</td>\n",
              "      <td>...</td>\n",
              "      <td>...</td>\n",
              "      <td>...</td>\n",
              "      <td>...</td>\n",
              "      <td>...</td>\n",
              "      <td>...</td>\n",
              "      <td>...</td>\n",
              "      <td>...</td>\n",
              "      <td>...</td>\n",
              "      <td>...</td>\n",
              "    </tr>\n",
              "    <tr>\n",
              "      <th>3159</th>\n",
              "      <td>hurricane_irma</td>\n",
              "      <td>910266304476667906</td>\n",
              "      <td>910266304476667906_0</td>\n",
              "      <td>post hurricane irma clean up ft. dad and a mac...</td>\n",
              "      <td>data_image/hurricane_irma/19_9_2017/9102663044...</td>\n",
              "      <td>infrastructure_and_utility_damage</td>\n",
              "      <td>not_humanitarian</td>\n",
              "      <td>infrastructure_and_utility_damage</td>\n",
              "      <td>Negative</td>\n",
              "      <td>12</td>\n",
              "      <td>2</td>\n",
              "      <td>1.0</td>\n",
              "    </tr>\n",
              "    <tr>\n",
              "      <th>3160</th>\n",
              "      <td>hurricane_irma</td>\n",
              "      <td>910266304476667906</td>\n",
              "      <td>910266304476667906_1</td>\n",
              "      <td>post hurricane irma clean up ft. dad and a mac...</td>\n",
              "      <td>data_image/hurricane_irma/19_9_2017/9102663044...</td>\n",
              "      <td>not_humanitarian</td>\n",
              "      <td>not_humanitarian</td>\n",
              "      <td>infrastructure_and_utility_damage</td>\n",
              "      <td>Negative</td>\n",
              "      <td>12</td>\n",
              "      <td>2</td>\n",
              "      <td>1.0</td>\n",
              "    </tr>\n",
              "    <tr>\n",
              "      <th>3162</th>\n",
              "      <td>hurricane_irma</td>\n",
              "      <td>910267451664986112</td>\n",
              "      <td>910267451664986112_1</td>\n",
              "      <td>Our @mostateparks crew returned from FL today ...</td>\n",
              "      <td>data_image/hurricane_irma/19_9_2017/9102674516...</td>\n",
              "      <td>rescue_volunteering_or_donation_effort</td>\n",
              "      <td>rescue_volunteering_or_donation_effort</td>\n",
              "      <td>not_humanitarian</td>\n",
              "      <td>Negative</td>\n",
              "      <td>17</td>\n",
              "      <td>4</td>\n",
              "      <td>1.0</td>\n",
              "    </tr>\n",
              "    <tr>\n",
              "      <th>3163</th>\n",
              "      <td>hurricane_irma</td>\n",
              "      <td>910267451664986112</td>\n",
              "      <td>910267451664986112_2</td>\n",
              "      <td>Our @mostateparks crew returned from FL today ...</td>\n",
              "      <td>data_image/hurricane_irma/19_9_2017/9102674516...</td>\n",
              "      <td>not_humanitarian</td>\n",
              "      <td>rescue_volunteering_or_donation_effort</td>\n",
              "      <td>not_humanitarian</td>\n",
              "      <td>Negative</td>\n",
              "      <td>17</td>\n",
              "      <td>4</td>\n",
              "      <td>1.0</td>\n",
              "    </tr>\n",
              "    <tr>\n",
              "      <th>3164</th>\n",
              "      <td>hurricane_irma</td>\n",
              "      <td>910267451664986112</td>\n",
              "      <td>910267451664986112_3</td>\n",
              "      <td>Our @mostateparks crew returned from FL today ...</td>\n",
              "      <td>data_image/hurricane_irma/19_9_2017/9102674516...</td>\n",
              "      <td>not_humanitarian</td>\n",
              "      <td>rescue_volunteering_or_donation_effort</td>\n",
              "      <td>not_humanitarian</td>\n",
              "      <td>Negative</td>\n",
              "      <td>17</td>\n",
              "      <td>4</td>\n",
              "      <td>1.0</td>\n",
              "    </tr>\n",
              "  </tbody>\n",
              "</table>\n",
              "<p>1584 rows × 12 columns</p>\n",
              "</div>"
            ],
            "text/plain": [
              "                event_name            tweet_id  ... len_image agreement\n",
              "0     california_wildfires  917791291823591425  ...         2       0.5\n",
              "1     california_wildfires  917791291823591425  ...         2       0.5\n",
              "5     california_wildfires  917815040962695168  ...         3       0.5\n",
              "6     california_wildfires  917815040962695168  ...         3       0.5\n",
              "15    california_wildfires  917832022017445888  ...         4       0.5\n",
              "...                    ...                 ...  ...       ...       ...\n",
              "3159        hurricane_irma  910266304476667906  ...         2       1.0\n",
              "3160        hurricane_irma  910266304476667906  ...         2       1.0\n",
              "3162        hurricane_irma  910267451664986112  ...         4       1.0\n",
              "3163        hurricane_irma  910267451664986112  ...         4       1.0\n",
              "3164        hurricane_irma  910267451664986112  ...         4       1.0\n",
              "\n",
              "[1584 rows x 12 columns]"
            ]
          },
          "metadata": {},
          "execution_count": 100
        }
      ]
    },
    {
      "cell_type": "code",
      "metadata": {
        "colab": {
          "base_uri": "https://localhost:8080/"
        },
        "id": "71uvtaW1H8M8",
        "outputId": "d26876c8-dd2a-4238-bd3f-3677de0c39ae"
      },
      "source": [
        "manyimg.iloc[list(manyimg['tweet_id']==917791291823591425)]['label_image'].value_counts(float).max()"
      ],
      "execution_count": null,
      "outputs": [
        {
          "output_type": "execute_result",
          "data": {
            "text/plain": [
              "0.5"
            ]
          },
          "metadata": {},
          "execution_count": 82
        }
      ]
    },
    {
      "cell_type": "code",
      "metadata": {
        "colab": {
          "base_uri": "https://localhost:8080/"
        },
        "id": "YTMKVRD5HJbH",
        "outputId": "a0fa8158-f1de-4fa6-8fb4-102886487ed5"
      },
      "source": [
        "len(df[df.label_text_image=='Positive'])"
      ],
      "execution_count": null,
      "outputs": [
        {
          "output_type": "execute_result",
          "data": {
            "text/plain": [
              "8079"
            ]
          },
          "metadata": {},
          "execution_count": 9
        }
      ]
    },
    {
      "cell_type": "code",
      "metadata": {
        "id": "t7iRuzANHbfP"
      },
      "source": [
        "tmp = df.copy(deep=True)\n",
        "tmp['label_text']=tmp['label_text'].apply(lambda x: 'affected_individuals' if x=='missing_or_found_people'  else x)\n",
        "tmp['label_text']=tmp['label_text'].apply(lambda x: 'affected_individuals' if x=='injured_or_dead_people' else x)\n",
        "tmp['label_text']=tmp['label_text'].apply(lambda x: 'infrastructure_and_utility_damage' if x=='vehicle_damage' else x)\n",
        "tmp['label_image']=tmp['label_image'].apply(lambda x: 'affected_individuals' if x=='missing_or_found_people'  else x)\n",
        "tmp['label_image']=tmp['label_image'].apply(lambda x: 'affected_individuals' if x=='injured_or_dead_people' else x)\n",
        "tmp['label_image']=tmp['label_image'].apply(lambda x: 'infrastructure_and_utility_damage' if x=='vehicle_damage' else x)"
      ],
      "execution_count": null,
      "outputs": []
    },
    {
      "cell_type": "code",
      "metadata": {
        "colab": {
          "base_uri": "https://localhost:8080/"
        },
        "id": "fNyKbBqHH2a8",
        "outputId": "05265117-e347-49f3-dfed-bca4f40ad671"
      },
      "source": [
        "len(tmp[tmp.label_image==tmp.label_text])"
      ],
      "execution_count": null,
      "outputs": [
        {
          "output_type": "execute_result",
          "data": {
            "text/plain": [
              "8188"
            ]
          },
          "metadata": {},
          "execution_count": 11
        }
      ]
    },
    {
      "cell_type": "code",
      "metadata": {
        "colab": {
          "base_uri": "https://localhost:8080/"
        },
        "id": "k8Rumlr5IDIn",
        "outputId": "3d3de254-5011-4519-e2e0-f9fbe9c131a7"
      },
      "source": [
        "tmp[tmp.label_image==tmp.label_text].label_text.value_counts()"
      ],
      "execution_count": null,
      "outputs": [
        {
          "output_type": "execute_result",
          "data": {
            "text/plain": [
              "not_humanitarian                          4277\n",
              "other_relevant_information                1753\n",
              "rescue_volunteering_or_donation_effort    1187\n",
              "infrastructure_and_utility_damage          842\n",
              "affected_individuals                       129\n",
              "Name: label_text, dtype: int64"
            ]
          },
          "metadata": {},
          "execution_count": 13
        }
      ]
    },
    {
      "cell_type": "markdown",
      "metadata": {
        "id": "U0-Eh3qpmlXS"
      },
      "source": [
        "# EDA"
      ]
    },
    {
      "cell_type": "code",
      "metadata": {
        "colab": {
          "base_uri": "https://localhost:8080/"
        },
        "id": "8zMhtwF0BSez",
        "outputId": "3aff6b73-f040-44ad-b98b-3f21f0183f83"
      },
      "source": [
        "df.shape"
      ],
      "execution_count": null,
      "outputs": [
        {
          "output_type": "execute_result",
          "data": {
            "text/plain": [
              "(18082, 9)"
            ]
          },
          "metadata": {},
          "execution_count": 6
        }
      ]
    },
    {
      "cell_type": "code",
      "metadata": {
        "colab": {
          "base_uri": "https://localhost:8080/"
        },
        "id": "cKtYrb3fBVf5",
        "outputId": "62a9e30d-118a-42fe-e9be-e772c7a9434e"
      },
      "source": [
        "df.columns"
      ],
      "execution_count": null,
      "outputs": [
        {
          "output_type": "execute_result",
          "data": {
            "text/plain": [
              "Index(['event_name', 'tweet_id', 'image_id', 'tweet_text', 'image', 'label',\n",
              "       'label_text', 'label_image', 'label_text_image'],\n",
              "      dtype='object')"
            ]
          },
          "metadata": {},
          "execution_count": 7
        }
      ]
    },
    {
      "cell_type": "code",
      "metadata": {
        "colab": {
          "base_uri": "https://localhost:8080/"
        },
        "id": "U6DTDQoOBb2o",
        "outputId": "696e2047-c3a3-4d7b-fcca-d52bdeffd741"
      },
      "source": [
        "for col in ['event_name', 'label', 'label_text', 'label_image', 'label_text_image']:\n",
        "  print(col)\n",
        "  pc = df[col].value_counts()/df[col].count()\n",
        "  print(round(pc,2), '\\n')"
      ],
      "execution_count": null,
      "outputs": [
        {
          "output_type": "stream",
          "name": "stdout",
          "text": [
            "event_name\n",
            "hurricane_maria         0.25\n",
            "hurricane_irma          0.25\n",
            "hurricane_harvey        0.25\n",
            "california_wildfires    0.09\n",
            "mexico_earthquake       0.08\n",
            "srilanka_floods         0.06\n",
            "iraq_iran_earthquake    0.03\n",
            "Name: event_name, dtype: float64 \n",
            "\n",
            "label\n",
            "not_humanitarian                          0.39\n",
            "other_relevant_information                0.25\n",
            "rescue_volunteering_or_donation_effort    0.17\n",
            "infrastructure_and_utility_damage         0.14\n",
            "affected_individuals                      0.03\n",
            "injured_or_dead_people                    0.02\n",
            "vehicle_damage                            0.01\n",
            "missing_or_found_people                   0.00\n",
            "Name: label, dtype: float64 \n",
            "\n",
            "label_text\n",
            "other_relevant_information                0.36\n",
            "not_humanitarian                          0.29\n",
            "rescue_volunteering_or_donation_effort    0.21\n",
            "infrastructure_and_utility_damage         0.08\n",
            "injured_or_dead_people                    0.03\n",
            "affected_individuals                      0.03\n",
            "vehicle_damage                            0.00\n",
            "missing_or_found_people                   0.00\n",
            "Name: label_text, dtype: float64 \n",
            "\n",
            "label_image\n",
            "not_humanitarian                          0.48\n",
            "infrastructure_and_utility_damage         0.20\n",
            "other_relevant_information                0.14\n",
            "rescue_volunteering_or_donation_effort    0.12\n",
            "affected_individuals                      0.03\n",
            "vehicle_damage                            0.02\n",
            "injured_or_dead_people                    0.01\n",
            "missing_or_found_people                   0.00\n",
            "Name: label_image, dtype: float64 \n",
            "\n",
            "label_text_image\n",
            "Negative    0.55\n",
            "Positive    0.45\n",
            "Name: label_text_image, dtype: float64 \n",
            "\n"
          ]
        }
      ]
    },
    {
      "cell_type": "markdown",
      "metadata": {
        "id": "WoimWQeiunjk"
      },
      "source": [
        "### Word Cloud"
      ]
    },
    {
      "cell_type": "code",
      "metadata": {
        "id": "az8vmpmwgNU4",
        "colab": {
          "base_uri": "https://localhost:8080/",
          "height": 422
        },
        "outputId": "8884d339-bafa-44cc-abbe-2603a94f4582"
      },
      "source": [
        "import re\n",
        "\n",
        "def clean_tweet(tweet):\n",
        "    temp = tweet.lower()\n",
        "    temp = re.sub(\"'\", \"\", temp)  \n",
        "    temp = re.sub('[()!?]', ' ', temp)\n",
        "    temp = re.sub('\\[.*?\\]',' ', temp)\n",
        "    temp = re.sub(\"@[A-Za-z0-9_]+\",\"\", temp)\n",
        "    # temp = re.sub(\"#[A-Za-z0-9_]+\",\"<HASHTAG>\", temp)\n",
        "    temp = re.sub(r'http\\S+', \"\", temp)\n",
        "    # temp = temp.replace(\"rt\",\"<RETWEET>\").strip()\n",
        "    temp = re.sub(\"[^a-zA-Z0-9]\",\" \", temp)\n",
        "\n",
        "    word_tokens = word_tokenize(temp)\n",
        "    temp = ' '.join([lemmatizer.lemmatize(w) for w in word_tokens if w not in stop_words])\n",
        "\n",
        "    return temp\n",
        "\n",
        "text = df.copy(deep=True)\n",
        "text = text[['tweet_id', 'tweet_text', 'label_text']]\n",
        "text = text.drop_duplicates(['tweet_id']).drop(columns=['tweet_id'])\n",
        "text['tweet_text'] = text['tweet_text'].apply(lambda x: clean_tweet(x))\n",
        "\n",
        "import matplotlib.pyplot as plt\n",
        "\n",
        "def plot_cloud(wordcloud):\n",
        "    plt.figure(figsize=(40, 30))\n",
        "    plt.imshow(wordcloud) \n",
        "    plt.axis(\"off\")\n",
        "\n",
        "from wordcloud import WordCloud"
      ],
      "execution_count": null,
      "outputs": [
        {
          "output_type": "error",
          "ename": "NameError",
          "evalue": "ignored",
          "traceback": [
            "\u001b[0;31m---------------------------------------------------------------------------\u001b[0m",
            "\u001b[0;31mNameError\u001b[0m                                 Traceback (most recent call last)",
            "\u001b[0;32m<ipython-input-9-895b0028e7ce>\u001b[0m in \u001b[0;36m<module>\u001b[0;34m()\u001b[0m\n\u001b[1;32m     20\u001b[0m \u001b[0mtext\u001b[0m \u001b[0;34m=\u001b[0m \u001b[0mtext\u001b[0m\u001b[0;34m[\u001b[0m\u001b[0;34m[\u001b[0m\u001b[0;34m'tweet_id'\u001b[0m\u001b[0;34m,\u001b[0m \u001b[0;34m'tweet_text'\u001b[0m\u001b[0;34m,\u001b[0m \u001b[0;34m'label_text'\u001b[0m\u001b[0;34m]\u001b[0m\u001b[0;34m]\u001b[0m\u001b[0;34m\u001b[0m\u001b[0;34m\u001b[0m\u001b[0m\n\u001b[1;32m     21\u001b[0m \u001b[0mtext\u001b[0m \u001b[0;34m=\u001b[0m \u001b[0mtext\u001b[0m\u001b[0;34m.\u001b[0m\u001b[0mdrop_duplicates\u001b[0m\u001b[0;34m(\u001b[0m\u001b[0;34m[\u001b[0m\u001b[0;34m'tweet_id'\u001b[0m\u001b[0;34m]\u001b[0m\u001b[0;34m)\u001b[0m\u001b[0;34m.\u001b[0m\u001b[0mdrop\u001b[0m\u001b[0;34m(\u001b[0m\u001b[0mcolumns\u001b[0m\u001b[0;34m=\u001b[0m\u001b[0;34m[\u001b[0m\u001b[0;34m'tweet_id'\u001b[0m\u001b[0;34m]\u001b[0m\u001b[0;34m)\u001b[0m\u001b[0;34m\u001b[0m\u001b[0;34m\u001b[0m\u001b[0m\n\u001b[0;32m---> 22\u001b[0;31m \u001b[0mtext\u001b[0m\u001b[0;34m[\u001b[0m\u001b[0;34m'tweet_text'\u001b[0m\u001b[0;34m]\u001b[0m \u001b[0;34m=\u001b[0m \u001b[0mtext\u001b[0m\u001b[0;34m[\u001b[0m\u001b[0;34m'tweet_text'\u001b[0m\u001b[0;34m]\u001b[0m\u001b[0;34m.\u001b[0m\u001b[0mapply\u001b[0m\u001b[0;34m(\u001b[0m\u001b[0;32mlambda\u001b[0m \u001b[0mx\u001b[0m\u001b[0;34m:\u001b[0m \u001b[0mclean_tweet\u001b[0m\u001b[0;34m(\u001b[0m\u001b[0mx\u001b[0m\u001b[0;34m)\u001b[0m\u001b[0;34m)\u001b[0m\u001b[0;34m\u001b[0m\u001b[0;34m\u001b[0m\u001b[0m\n\u001b[0m\u001b[1;32m     23\u001b[0m \u001b[0;34m\u001b[0m\u001b[0m\n\u001b[1;32m     24\u001b[0m \u001b[0;32mimport\u001b[0m \u001b[0mmatplotlib\u001b[0m\u001b[0;34m.\u001b[0m\u001b[0mpyplot\u001b[0m \u001b[0;32mas\u001b[0m \u001b[0mplt\u001b[0m\u001b[0;34m\u001b[0m\u001b[0;34m\u001b[0m\u001b[0m\n",
            "\u001b[0;32m/usr/local/lib/python3.7/dist-packages/pandas/core/series.py\u001b[0m in \u001b[0;36mapply\u001b[0;34m(self, func, convert_dtype, args, **kwds)\u001b[0m\n\u001b[1;32m   4211\u001b[0m             \u001b[0;32melse\u001b[0m\u001b[0;34m:\u001b[0m\u001b[0;34m\u001b[0m\u001b[0;34m\u001b[0m\u001b[0m\n\u001b[1;32m   4212\u001b[0m                 \u001b[0mvalues\u001b[0m \u001b[0;34m=\u001b[0m \u001b[0mself\u001b[0m\u001b[0;34m.\u001b[0m\u001b[0mastype\u001b[0m\u001b[0;34m(\u001b[0m\u001b[0mobject\u001b[0m\u001b[0;34m)\u001b[0m\u001b[0;34m.\u001b[0m\u001b[0m_values\u001b[0m\u001b[0;34m\u001b[0m\u001b[0;34m\u001b[0m\u001b[0m\n\u001b[0;32m-> 4213\u001b[0;31m                 \u001b[0mmapped\u001b[0m \u001b[0;34m=\u001b[0m \u001b[0mlib\u001b[0m\u001b[0;34m.\u001b[0m\u001b[0mmap_infer\u001b[0m\u001b[0;34m(\u001b[0m\u001b[0mvalues\u001b[0m\u001b[0;34m,\u001b[0m \u001b[0mf\u001b[0m\u001b[0;34m,\u001b[0m \u001b[0mconvert\u001b[0m\u001b[0;34m=\u001b[0m\u001b[0mconvert_dtype\u001b[0m\u001b[0;34m)\u001b[0m\u001b[0;34m\u001b[0m\u001b[0;34m\u001b[0m\u001b[0m\n\u001b[0m\u001b[1;32m   4214\u001b[0m \u001b[0;34m\u001b[0m\u001b[0m\n\u001b[1;32m   4215\u001b[0m         \u001b[0;32mif\u001b[0m \u001b[0mlen\u001b[0m\u001b[0;34m(\u001b[0m\u001b[0mmapped\u001b[0m\u001b[0;34m)\u001b[0m \u001b[0;32mand\u001b[0m \u001b[0misinstance\u001b[0m\u001b[0;34m(\u001b[0m\u001b[0mmapped\u001b[0m\u001b[0;34m[\u001b[0m\u001b[0;36m0\u001b[0m\u001b[0;34m]\u001b[0m\u001b[0;34m,\u001b[0m \u001b[0mSeries\u001b[0m\u001b[0;34m)\u001b[0m\u001b[0;34m:\u001b[0m\u001b[0;34m\u001b[0m\u001b[0;34m\u001b[0m\u001b[0m\n",
            "\u001b[0;32mpandas/_libs/lib.pyx\u001b[0m in \u001b[0;36mpandas._libs.lib.map_infer\u001b[0;34m()\u001b[0m\n",
            "\u001b[0;32m<ipython-input-9-895b0028e7ce>\u001b[0m in \u001b[0;36m<lambda>\u001b[0;34m(x)\u001b[0m\n\u001b[1;32m     20\u001b[0m \u001b[0mtext\u001b[0m \u001b[0;34m=\u001b[0m \u001b[0mtext\u001b[0m\u001b[0;34m[\u001b[0m\u001b[0;34m[\u001b[0m\u001b[0;34m'tweet_id'\u001b[0m\u001b[0;34m,\u001b[0m \u001b[0;34m'tweet_text'\u001b[0m\u001b[0;34m,\u001b[0m \u001b[0;34m'label_text'\u001b[0m\u001b[0;34m]\u001b[0m\u001b[0;34m]\u001b[0m\u001b[0;34m\u001b[0m\u001b[0;34m\u001b[0m\u001b[0m\n\u001b[1;32m     21\u001b[0m \u001b[0mtext\u001b[0m \u001b[0;34m=\u001b[0m \u001b[0mtext\u001b[0m\u001b[0;34m.\u001b[0m\u001b[0mdrop_duplicates\u001b[0m\u001b[0;34m(\u001b[0m\u001b[0;34m[\u001b[0m\u001b[0;34m'tweet_id'\u001b[0m\u001b[0;34m]\u001b[0m\u001b[0;34m)\u001b[0m\u001b[0;34m.\u001b[0m\u001b[0mdrop\u001b[0m\u001b[0;34m(\u001b[0m\u001b[0mcolumns\u001b[0m\u001b[0;34m=\u001b[0m\u001b[0;34m[\u001b[0m\u001b[0;34m'tweet_id'\u001b[0m\u001b[0;34m]\u001b[0m\u001b[0;34m)\u001b[0m\u001b[0;34m\u001b[0m\u001b[0;34m\u001b[0m\u001b[0m\n\u001b[0;32m---> 22\u001b[0;31m \u001b[0mtext\u001b[0m\u001b[0;34m[\u001b[0m\u001b[0;34m'tweet_text'\u001b[0m\u001b[0;34m]\u001b[0m \u001b[0;34m=\u001b[0m \u001b[0mtext\u001b[0m\u001b[0;34m[\u001b[0m\u001b[0;34m'tweet_text'\u001b[0m\u001b[0;34m]\u001b[0m\u001b[0;34m.\u001b[0m\u001b[0mapply\u001b[0m\u001b[0;34m(\u001b[0m\u001b[0;32mlambda\u001b[0m \u001b[0mx\u001b[0m\u001b[0;34m:\u001b[0m \u001b[0mclean_tweet\u001b[0m\u001b[0;34m(\u001b[0m\u001b[0mx\u001b[0m\u001b[0;34m)\u001b[0m\u001b[0;34m)\u001b[0m\u001b[0;34m\u001b[0m\u001b[0;34m\u001b[0m\u001b[0m\n\u001b[0m\u001b[1;32m     23\u001b[0m \u001b[0;34m\u001b[0m\u001b[0m\n\u001b[1;32m     24\u001b[0m \u001b[0;32mimport\u001b[0m \u001b[0mmatplotlib\u001b[0m\u001b[0;34m.\u001b[0m\u001b[0mpyplot\u001b[0m \u001b[0;32mas\u001b[0m \u001b[0mplt\u001b[0m\u001b[0;34m\u001b[0m\u001b[0;34m\u001b[0m\u001b[0m\n",
            "\u001b[0;32m<ipython-input-9-895b0028e7ce>\u001b[0m in \u001b[0;36mclean_tweet\u001b[0;34m(tweet)\u001b[0m\n\u001b[1;32m     12\u001b[0m     \u001b[0mtemp\u001b[0m \u001b[0;34m=\u001b[0m \u001b[0mre\u001b[0m\u001b[0;34m.\u001b[0m\u001b[0msub\u001b[0m\u001b[0;34m(\u001b[0m\u001b[0;34m\"[^a-zA-Z0-9]\"\u001b[0m\u001b[0;34m,\u001b[0m\u001b[0;34m\" \"\u001b[0m\u001b[0;34m,\u001b[0m \u001b[0mtemp\u001b[0m\u001b[0;34m)\u001b[0m\u001b[0;34m\u001b[0m\u001b[0;34m\u001b[0m\u001b[0m\n\u001b[1;32m     13\u001b[0m \u001b[0;34m\u001b[0m\u001b[0m\n\u001b[0;32m---> 14\u001b[0;31m     \u001b[0mword_tokens\u001b[0m \u001b[0;34m=\u001b[0m \u001b[0mword_tokenize\u001b[0m\u001b[0;34m(\u001b[0m\u001b[0mtemp\u001b[0m\u001b[0;34m)\u001b[0m\u001b[0;34m\u001b[0m\u001b[0;34m\u001b[0m\u001b[0m\n\u001b[0m\u001b[1;32m     15\u001b[0m     \u001b[0mtemp\u001b[0m \u001b[0;34m=\u001b[0m \u001b[0;34m' '\u001b[0m\u001b[0;34m.\u001b[0m\u001b[0mjoin\u001b[0m\u001b[0;34m(\u001b[0m\u001b[0;34m[\u001b[0m\u001b[0mlemmatizer\u001b[0m\u001b[0;34m.\u001b[0m\u001b[0mlemmatize\u001b[0m\u001b[0;34m(\u001b[0m\u001b[0mw\u001b[0m\u001b[0;34m)\u001b[0m \u001b[0;32mfor\u001b[0m \u001b[0mw\u001b[0m \u001b[0;32min\u001b[0m \u001b[0mword_tokens\u001b[0m \u001b[0;32mif\u001b[0m \u001b[0mw\u001b[0m \u001b[0;32mnot\u001b[0m \u001b[0;32min\u001b[0m \u001b[0mstop_words\u001b[0m\u001b[0;34m]\u001b[0m\u001b[0;34m)\u001b[0m\u001b[0;34m\u001b[0m\u001b[0;34m\u001b[0m\u001b[0m\n\u001b[1;32m     16\u001b[0m \u001b[0;34m\u001b[0m\u001b[0m\n",
            "\u001b[0;31mNameError\u001b[0m: name 'word_tokenize' is not defined"
          ]
        }
      ]
    },
    {
      "cell_type": "code",
      "metadata": {
        "id": "Atkn-_9CjQaN"
      },
      "source": [
        "all_text = ' '.join(text['tweet_text'])\n",
        "wordcloud = WordCloud(width= 3000, height = 2000, random_state=1, max_words=50,\n",
        "                     background_color='white', collocations=False).generate(all_text)\n",
        "\n",
        "plot_cloud(wordcloud)"
      ],
      "execution_count": null,
      "outputs": []
    },
    {
      "cell_type": "code",
      "metadata": {
        "id": "qkAqdxAKkyZJ"
      },
      "source": [
        "wordcloud.words_.keys()"
      ],
      "execution_count": null,
      "outputs": []
    },
    {
      "cell_type": "code",
      "metadata": {
        "id": "2dPovwEGlKzo"
      },
      "source": [
        "excludels=['irma', 'hurricane', 'harvey', 'puerto', 'rt', 'rico', 'maria', 'earthquake', 'california', 'mexico', 'wildfire',\n",
        "           'storm', 'mora', 'fire', 'florida', 'hurricanemaria','tornado', 'texas', 'houston', 'hurricaneharvey', 'amp', 'iran', 'iraq',\n",
        "           'srilanka', 'flood']"
      ],
      "execution_count": null,
      "outputs": []
    },
    {
      "cell_type": "code",
      "metadata": {
        "id": "yQ1RPfKgjZya"
      },
      "source": [
        "def plot_cloud(wordcloud):\n",
        "    plt.figure(figsize=(30, 20))\n",
        "    plt.imshow(wordcloud) \n",
        "    plt.axis(\"off\")\n",
        "    \n",
        "for cat in text['label_text'].unique():\n",
        "  all_text = ' '.join(text[text['label_text']==cat]['tweet_text'])\n",
        "  wordcloud = WordCloud(width= 600, height = 700, random_state=1, max_words=10,\n",
        "                     background_color='white', collocations=False, stopwords=excludels).generate(all_text)\n",
        "  print(cat)\n",
        "  plot_cloud(wordcloud)   "
      ],
      "execution_count": null,
      "outputs": []
    },
    {
      "cell_type": "markdown",
      "metadata": {
        "id": "YtF4X2BDzsA8"
      },
      "source": [
        "# Preprocess"
      ]
    },
    {
      "cell_type": "code",
      "metadata": {
        "colab": {
          "base_uri": "https://localhost:8080/",
          "height": 142
        },
        "id": "rh_nZmO1ogVU",
        "outputId": "81bbbfcf-a451-41d8-a9ac-8553ee3dc0ef"
      },
      "source": [
        "df_text = df.copy(deep=True)\n",
        "df_text = df_text[['tweet_id', 'tweet_text', 'label_text']]\n",
        "df_text.head(3)"
      ],
      "execution_count": null,
      "outputs": [
        {
          "output_type": "execute_result",
          "data": {
            "text/html": [
              "<div>\n",
              "<style scoped>\n",
              "    .dataframe tbody tr th:only-of-type {\n",
              "        vertical-align: middle;\n",
              "    }\n",
              "\n",
              "    .dataframe tbody tr th {\n",
              "        vertical-align: top;\n",
              "    }\n",
              "\n",
              "    .dataframe thead th {\n",
              "        text-align: right;\n",
              "    }\n",
              "</style>\n",
              "<table border=\"1\" class=\"dataframe\">\n",
              "  <thead>\n",
              "    <tr style=\"text-align: right;\">\n",
              "      <th></th>\n",
              "      <th>tweet_id</th>\n",
              "      <th>tweet_text</th>\n",
              "      <th>label_text</th>\n",
              "    </tr>\n",
              "  </thead>\n",
              "  <tbody>\n",
              "    <tr>\n",
              "      <th>0</th>\n",
              "      <td>917791291823591425</td>\n",
              "      <td>RT @Cal_OES: PLS SHARE: Weâ€™re capturing wild...</td>\n",
              "      <td>other_relevant_information</td>\n",
              "    </tr>\n",
              "    <tr>\n",
              "      <th>1</th>\n",
              "      <td>917791291823591425</td>\n",
              "      <td>RT @Cal_OES: PLS SHARE: Weâ€™re capturing wild...</td>\n",
              "      <td>other_relevant_information</td>\n",
              "    </tr>\n",
              "    <tr>\n",
              "      <th>2</th>\n",
              "      <td>917793137925459968</td>\n",
              "      <td>RT @KAKEnews: California wildfires destroy mor...</td>\n",
              "      <td>infrastructure_and_utility_damage</td>\n",
              "    </tr>\n",
              "  </tbody>\n",
              "</table>\n",
              "</div>"
            ],
            "text/plain": [
              "             tweet_id  ...                         label_text\n",
              "0  917791291823591425  ...         other_relevant_information\n",
              "1  917791291823591425  ...         other_relevant_information\n",
              "2  917793137925459968  ...  infrastructure_and_utility_damage\n",
              "\n",
              "[3 rows x 3 columns]"
            ]
          },
          "metadata": {},
          "execution_count": 10
        }
      ]
    },
    {
      "cell_type": "code",
      "metadata": {
        "colab": {
          "base_uri": "https://localhost:8080/"
        },
        "id": "kHnpeuf2pGiv",
        "outputId": "c603ac1a-f8db-4318-f9e1-01df07593915"
      },
      "source": [
        "df_text.duplicated().sum()"
      ],
      "execution_count": null,
      "outputs": [
        {
          "output_type": "execute_result",
          "data": {
            "text/plain": [
              "2024"
            ]
          },
          "metadata": {},
          "execution_count": 11
        }
      ]
    },
    {
      "cell_type": "code",
      "metadata": {
        "id": "hptqBOvspl9T"
      },
      "source": [
        "df_text = df_text.drop_duplicates(['tweet_id']).drop(columns=['tweet_id'])"
      ],
      "execution_count": null,
      "outputs": []
    },
    {
      "cell_type": "code",
      "metadata": {
        "id": "4sZduIOQxzcN"
      },
      "source": [
        "# df_text['label_text']=df_text['label_text'].apply(lambda x: 'affected_individuals' if x=='missing_or_found_people' else x)\n",
        "# df_text['label_text']=df_text['label_text'].apply(lambda x: 'affected_individuals' if x=='injured_or_dead_people' else x)\n",
        "# df_text['label_text']=df_text['label_text'].apply(lambda x: 'infrastructure_and_utility_damage' if x=='vehicle_damage' else x)"
      ],
      "execution_count": null,
      "outputs": []
    },
    {
      "cell_type": "code",
      "metadata": {
        "id": "vPsa1XP7tqoo"
      },
      "source": [
        "# todrop = df_text[df_text['label_text']=='other_relevant_information'].sample(frac=0.2, axis=0, random_state=0)\n",
        "# df_text = df_text.drop(index=todrop.index)"
      ],
      "execution_count": null,
      "outputs": []
    },
    {
      "cell_type": "code",
      "metadata": {
        "id": "XKXKd-2707vC",
        "colab": {
          "base_uri": "https://localhost:8080/"
        },
        "outputId": "03e00082-1fa5-4626-808b-b634280e1560"
      },
      "source": [
        "for col in ['label_text']:\n",
        "  print(col)\n",
        "  pc = df_text[col].value_counts()/df_text[col].count()\n",
        "  print(round(pc,2), '\\n')"
      ],
      "execution_count": null,
      "outputs": [
        {
          "output_type": "stream",
          "name": "stdout",
          "text": [
            "label_text\n",
            "other_relevant_information                0.37\n",
            "not_humanitarian                          0.28\n",
            "rescue_volunteering_or_donation_effort    0.21\n",
            "infrastructure_and_utility_damage         0.08\n",
            "injured_or_dead_people                    0.03\n",
            "affected_individuals                      0.03\n",
            "vehicle_damage                            0.00\n",
            "missing_or_found_people                   0.00\n",
            "Name: label_text, dtype: float64 \n",
            "\n"
          ]
        }
      ]
    },
    {
      "cell_type": "markdown",
      "metadata": {
        "id": "NaPnYfz6z71-"
      },
      "source": [
        "# Clean"
      ]
    },
    {
      "cell_type": "markdown",
      "metadata": {
        "id": "79x0X1SX9uiE"
      },
      "source": [
        "#### Extract hashtags\n",
        "not much gained from presence of hashtags, but perhaps should not remove the hastags(words) since they are often trending/identifying keywords "
      ]
    },
    {
      "cell_type": "code",
      "metadata": {
        "id": "BaBa29bVhEbO"
      },
      "source": [
        "import numpy as np\n",
        "import re"
      ],
      "execution_count": null,
      "outputs": []
    },
    {
      "cell_type": "code",
      "metadata": {
        "id": "g2FLFzxN0HrR"
      },
      "source": [
        "hashtags = df_text.copy(deep=True)\n",
        "hashtags['tweet_text'] = hashtags['tweet_text'].apply(lambda x: re.findall(r'\\B#\\w*[a-zA-Z]+\\w*', x))\n",
        "hashtags = hashtags.rename(columns={'tweet_text':'tags'})\n",
        "hashtags['has_tags'] = hashtags['tags'].apply(lambda x: 1 if len(x)>0 else 0)"
      ],
      "execution_count": null,
      "outputs": []
    },
    {
      "cell_type": "code",
      "metadata": {
        "id": "6vo1goeQAGWe"
      },
      "source": [
        "hashtags.groupby(by=['label_text']).mean()"
      ],
      "execution_count": null,
      "outputs": []
    },
    {
      "cell_type": "markdown",
      "metadata": {
        "id": "ntHN4hGXCAq1"
      },
      "source": [
        "#### Apply custom cleaning function"
      ]
    },
    {
      "cell_type": "code",
      "metadata": {
        "id": "qtd7M0mzi7DO",
        "colab": {
          "base_uri": "https://localhost:8080/"
        },
        "outputId": "0be02299-18b3-4073-8209-a4a45d9b68c7"
      },
      "source": [
        "import nltk\n",
        "from nltk.corpus import stopwords\n",
        "from nltk.tokenize import word_tokenize\n",
        "from nltk.stem import WordNetLemmatizer \n",
        "\n",
        "nltk.download('stopwords')\n",
        "nltk.download('punkt')\n",
        "nltk.download('wordnet')\n",
        "lemmatizer = WordNetLemmatizer()\n",
        "stop_words = set(stopwords.words('english'))"
      ],
      "execution_count": null,
      "outputs": [
        {
          "output_type": "stream",
          "name": "stdout",
          "text": [
            "[nltk_data] Downloading package stopwords to /root/nltk_data...\n",
            "[nltk_data]   Unzipping corpora/stopwords.zip.\n",
            "[nltk_data] Downloading package punkt to /root/nltk_data...\n",
            "[nltk_data]   Unzipping tokenizers/punkt.zip.\n",
            "[nltk_data] Downloading package wordnet to /root/nltk_data...\n",
            "[nltk_data]   Unzipping corpora/wordnet.zip.\n"
          ]
        }
      ]
    },
    {
      "cell_type": "code",
      "metadata": {
        "id": "cv36GD5cz-VF"
      },
      "source": [
        "import re \n",
        "\n",
        "def clean_tweet(tweet):\n",
        "    temp = tweet.lower()\n",
        "    temp = re.sub(\"'\", \"\", temp)  \n",
        "    temp = re.sub('[()!?]', ' ', temp)\n",
        "    temp = re.sub('\\[.*?\\]',' ', temp)\n",
        "    # temp = re.sub(\"@[A-Za-z0-9_]+\",\"<MENTION>\", temp)\n",
        "    # temp = re.sub(\"#[A-Za-z0-9_]+\",\"<HASHTAG>\", temp)\n",
        "    # temp = re.sub(r'http\\S+', \"<LINK>\", temp)\n",
        "    # temp = temp.replace(\"\\brt\\b\",\"<RETWEET>\").strip()\n",
        "    temp = re.sub(\"@[A-Za-z0-9_]+\",\"\", temp)\n",
        "    temp = re.sub(r'http\\S+', \"\", temp)\n",
        "    temp = re.sub(r'\\brt\\b',\"\", temp).strip()\n",
        "    temp = re.sub(\"[^a-zA-Z0-9]\",\" \", temp)\n",
        "\n",
        "    word_tokens = word_tokenize(temp)\n",
        "    temp = ' '.join([lemmatizer.lemmatize(w) for w in word_tokens if w not in stop_words])\n",
        "\n",
        "    return temp"
      ],
      "execution_count": null,
      "outputs": []
    },
    {
      "cell_type": "code",
      "metadata": {
        "id": "Xm2b4BOd3Knl"
      },
      "source": [
        "df_text['tweet_text'] = df_text['tweet_text'].apply(lambda x: clean_tweet(x))"
      ],
      "execution_count": null,
      "outputs": []
    },
    {
      "cell_type": "code",
      "metadata": {
        "colab": {
          "base_uri": "https://localhost:8080/"
        },
        "id": "HXygpIjU3uFP",
        "outputId": "ff3219f3-85ca-4c67-a727-ff06b1af8ef0"
      },
      "source": [
        "df_text['tweet_text'].unique()"
      ],
      "execution_count": null,
      "outputs": [
        {
          "output_type": "execute_result",
          "data": {
            "text/plain": [
              "array(['pls share capturing wildfire response recovery info',\n",
              "       'california wildfire destroy 50 structure kakenews',\n",
              "       'photo california destructive wildfire via', ...,\n",
              "       'marathonfl sunken boat lay side irma floridastrong',\n",
              "       'harvey damage could reach 180 billion',\n",
              "       'maria want work irma couldnt completely 3 4'], dtype=object)"
            ]
          },
          "metadata": {},
          "execution_count": 19
        }
      ]
    },
    {
      "cell_type": "code",
      "metadata": {
        "colab": {
          "base_uri": "https://localhost:8080/",
          "height": 312
        },
        "id": "mWlvlM6qXtqd",
        "outputId": "6d0f9cf0-e21d-40b6-a1d3-4c5300f632c2"
      },
      "source": [
        "import matplotlib.pyplot as plt\n",
        "\n",
        "tweet_lens = df_text['tweet_text'].apply(lambda x: len(x.split()))\n",
        "plt.hist(tweet_lens)\n",
        "plt.xlabel(\"# of words\")\n",
        "plt.ylabel(\"# of tweets\")\n",
        "plt.title(\"Distribution of tweet text lengths\")\n",
        "print(tweet_lens.mean(), tweet_lens.max(), tweet_lens.mode()[0])"
      ],
      "execution_count": null,
      "outputs": [
        {
          "output_type": "stream",
          "name": "stdout",
          "text": [
            "8.58743305517499 24 9\n"
          ]
        },
        {
          "output_type": "display_data",
          "data": {
            "image/png": "[encoded data removed]",
            "text/plain": [
              "<Figure size 432x288 with 1 Axes>"
            ]
          },
          "metadata": {
            "needs_background": "light"
          }
        }
      ]
    },
    {
      "cell_type": "markdown",
      "metadata": {
        "id": "rF0CmNaavQLW"
      },
      "source": [
        "# Word Embedding"
      ]
    },
    {
      "cell_type": "code",
      "metadata": {
        "id": "Cjipngb9QIod",
        "colab": {
          "base_uri": "https://localhost:8080/"
        },
        "outputId": "5c2bb067-2555-4c92-c18a-d138b53e423a"
      },
      "source": [
        "%%time\n",
        "import gensim.downloader\n",
        "from gensim.models import Word2Vec\n",
        "\n",
        "wv = gensim.downloader.load('glove-twitter-100')\n",
        "wv.init_sims(replace=True)\n",
        "print('Model loaded')\n"
      ],
      "execution_count": null,
      "outputs": [
        {
          "output_type": "stream",
          "name": "stdout",
          "text": [
            "[==================================================] 100.0% 387.1/387.1MB downloaded\n",
            "Model loaded\n",
            "CPU times: user 4min 20s, sys: 16.5 s, total: 4min 37s\n",
            "Wall time: 5min 2s\n"
          ]
        }
      ]
    },
    {
      "cell_type": "code",
      "metadata": {
        "id": "lbSLtiwyQIoo"
      },
      "source": [
        "import numpy as np\n",
        "def word_averaging(wv, words):\n",
        "    # averages a set of words 'words' given their wordvectors 'wv'\n",
        "    \n",
        "    all_words, mean = set(), []\n",
        "    \n",
        "    # for each word in the list of words\n",
        "    for word in words:\n",
        "        # if the words are already vectors, then just append them\n",
        "        if isinstance(word, np.ndarray):\n",
        "            mean.append(word)\n",
        "        # if not: first get the vector embedding for the words\n",
        "        elif word in wv.vocab:\n",
        "            mean.append(wv.vectors_norm[wv.vocab[word].index])\n",
        "            all_words.add(wv.vocab[word].index)\n",
        "\n",
        "    \n",
        "    if not mean:\n",
        "        # error handling in case mean cannot be calculated\n",
        "        print(\"cannot compute similarity with no input %s\", words)\n",
        "        return np.zeros(wv.vector_size,)\n",
        "\n",
        "    # use gensim's method to calculate the mean of all the words appended to mean list\n",
        "    mean = gensim.matutils.unitvec(np.array(mean).mean(axis=0)).astype(np.float32)\n",
        "    return mean\n",
        "\n",
        "def  word_averaging_list(wv, text_list):\n",
        "    return np.vstack([word_averaging(wv, post) for post in text_list ])"
      ],
      "execution_count": null,
      "outputs": []
    },
    {
      "cell_type": "code",
      "metadata": {
        "id": "CA1Wrn9-QIot"
      },
      "source": [
        "from sklearn.model_selection import train_test_split\n",
        "train, test = train_test_split(df_text, test_size=0.2, random_state = 42)\n",
        "\n",
        "test_tokenized = test.apply(lambda r: r['tweet_text'].split(), axis=1).values\n",
        "train_tokenized = train.apply(lambda r:  r['tweet_text'].split(), axis=1).values"
      ],
      "execution_count": null,
      "outputs": []
    },
    {
      "cell_type": "code",
      "metadata": {
        "id": "pqG34rU6QIoy",
        "colab": {
          "base_uri": "https://localhost:8080/"
        },
        "outputId": "60dee164-6419-4406-dc2f-9fc890a885f7"
      },
      "source": [
        "X_train_word_average = word_averaging_list(wv,train_tokenized)\n",
        "X_test_word_average = word_averaging_list(wv,test_tokenized)"
      ],
      "execution_count": null,
      "outputs": [
        {
          "output_type": "stream",
          "name": "stdout",
          "text": [
            "cannot compute similarity with no input %s ['2016', 'graffitiart']\n",
            "cannot compute similarity with no input %s ['dryair', 'entrained', 'hurricanelee', 'hurricanemaria', 'continentalairmass']\n"
          ]
        }
      ]
    },
    {
      "cell_type": "code",
      "metadata": {
        "id": "LSSSuFQYQIo5"
      },
      "source": [
        "from sklearn.linear_model import LogisticRegression\n",
        "logreg = LogisticRegression(n_jobs=1, C=1, max_iter=350, random_state=0)\n",
        "logreg = logreg.fit(X_train_word_average, train['label_text'])\n",
        "y_pred = logreg.predict(X_test_word_average)"
      ],
      "execution_count": null,
      "outputs": []
    },
    {
      "cell_type": "code",
      "metadata": {
        "id": "U_WzSihIQIo9",
        "colab": {
          "base_uri": "https://localhost:8080/"
        },
        "outputId": "f14b0136-9041-4725-9429-7ad756f27d4c"
      },
      "source": [
        "from sklearn.metrics import accuracy_score, classification_report\n",
        "print('accuracy %s' % accuracy_score(y_pred, test['label_text']))\n",
        "print(classification_report(test['label_text'], y_pred))"
      ],
      "execution_count": null,
      "outputs": [
        {
          "output_type": "stream",
          "name": "stdout",
          "text": [
            "accuracy 0.6226650062266501\n",
            "                                        precision    recall  f1-score   support\n",
            "\n",
            "                  affected_individuals       0.62      0.34      0.44       196\n",
            "     infrastructure_and_utility_damage       0.54      0.24      0.33       255\n",
            "                      not_humanitarian       0.64      0.62      0.63       941\n",
            "            other_relevant_information       0.58      0.71      0.64      1192\n",
            "rescue_volunteering_or_donation_effort       0.70      0.70      0.70       628\n",
            "\n",
            "                              accuracy                           0.62      3212\n",
            "                             macro avg       0.62      0.52      0.55      3212\n",
            "                          weighted avg       0.62      0.62      0.61      3212\n",
            "\n"
          ]
        }
      ]
    },
    {
      "cell_type": "markdown",
      "metadata": {
        "id": "ml4OWPROmp1K"
      },
      "source": [
        "# Classify"
      ]
    },
    {
      "cell_type": "code",
      "metadata": {
        "id": "_SeQxS89mz3v"
      },
      "source": [
        "from sklearn.model_selection import train_test_split\n",
        "from sklearn.feature_extraction.text import TfidfVectorizer"
      ],
      "execution_count": null,
      "outputs": []
    },
    {
      "cell_type": "code",
      "metadata": {
        "id": "injpN7vRm9ok"
      },
      "source": [
        "X_train, X_test, y_train, y_test = train_test_split(df_text['tweet_text'], df_text['label_text'], \n",
        "                                                    random_state = 0, stratify=df_text['label_text'])"
      ],
      "execution_count": null,
      "outputs": []
    },
    {
      "cell_type": "markdown",
      "metadata": {
        "id": "q1XvXcKFMZnh"
      },
      "source": [
        "### Cross-validation"
      ]
    },
    {
      "cell_type": "code",
      "metadata": {
        "id": "CajwGYNknA6I"
      },
      "source": [
        "tfidf_vectorizer=TfidfVectorizer(use_idf=True, tokenizer=word_tokenize)\n",
        "X_train_tfidf = tfidf_vectorizer.fit_transform(X_train)"
      ],
      "execution_count": null,
      "outputs": []
    },
    {
      "cell_type": "code",
      "metadata": {
        "id": "JEoq3QfCnTaI"
      },
      "source": [
        "from sklearn.linear_model import LogisticRegression\n",
        "from sklearn.ensemble import RandomForestClassifier\n",
        "from sklearn.naive_bayes import MultinomialNB\n",
        "\n",
        "from sklearn.model_selection import cross_val_score\n",
        "models = [\n",
        "    RandomForestClassifier(n_estimators=200, max_depth=8, random_state=0),\n",
        "    MultinomialNB(),\n",
        "    LogisticRegression(max_iter=250, random_state=0),\n",
        "]\n",
        "\n",
        "CV = 5\n",
        "cv_df = pd.DataFrame(index=range(CV * len(models)))\n",
        "entries = []\n",
        "\n",
        "for model in models:\n",
        "  model_name = model.__class__.__name__\n",
        "  accuracies = cross_val_score(model, X_train_tfidf, y_train, scoring='accuracy', cv=CV)\n",
        "  for fold_idx, accuracy in enumerate(accuracies):\n",
        "    entries.append((model_name, fold_idx, accuracy))\n",
        "\n",
        "cv_df = pd.DataFrame(entries, columns=['model_name', 'fold_idx', 'accuracy'])"
      ],
      "execution_count": null,
      "outputs": []
    },
    {
      "cell_type": "code",
      "metadata": {
        "colab": {
          "base_uri": "https://localhost:8080/"
        },
        "id": "4n1azs0Pn5dI",
        "outputId": "8408baaf-1a75-4817-970a-7f0b6ef07278"
      },
      "source": [
        "import seaborn as sns\n",
        "import matplotlib.pyplot as plt\n",
        "\n",
        "sns.boxplot(x='model_name', y='accuracy', data=cv_df)\n",
        "# sns.stripplot(x='model_name', y='accuracy', data=cv_df, size=8, jitter=True, edgecolor=\"gray\", linewidth=2)\n",
        "plt.show()"
      ],
      "execution_count": null,
      "outputs": [
        {
          "output_type": "display_data",
          "data": {
            "image/png": "[encoded data removed]",
            "text/plain": [
              "<Figure size 432x288 with 1 Axes>"
            ]
          },
          "metadata": {
            "needs_background": "light"
          }
        }
      ]
    },
    {
      "cell_type": "code",
      "metadata": {
        "colab": {
          "base_uri": "https://localhost:8080/"
        },
        "id": "uGK0It1Pnvv6",
        "outputId": "a74b2fb8-7eb7-4c5b-ab80-daf3dba2db96"
      },
      "source": [
        "cv_df.groupby('model_name').accuracy.mean()"
      ],
      "execution_count": null,
      "outputs": [
        {
          "output_type": "execute_result",
          "data": {
            "text/plain": [
              "model_name\n",
              "LogisticRegression        0.650751\n",
              "MultinomialNB             0.572448\n",
              "RandomForestClassifier    0.378228\n",
              "Name: accuracy, dtype: float64"
            ]
          },
          "metadata": {},
          "execution_count": 25
        }
      ]
    },
    {
      "cell_type": "markdown",
      "metadata": {
        "id": "FoZ_RFdPMfGT"
      },
      "source": [
        "### Simple Model"
      ]
    },
    {
      "cell_type": "code",
      "metadata": {
        "id": "mVC_QgmdnyqS"
      },
      "source": [
        "from sklearn.pipeline import Pipeline\n",
        "from sklearn.feature_selection import SelectPercentile, f_classif\n",
        "\n",
        "pipeline = Pipeline([\n",
        "    ('TF-IDF', TfidfVectorizer(use_idf=True, stop_words='english')),\n",
        "    ('LogisticRegression', LogisticRegression(max_iter=250, random_state=0))\n",
        "])\n",
        "\n",
        "pipeline.fit(X_train, y_train)\n",
        "y_pred = pipeline.predict(X_test)"
      ],
      "execution_count": null,
      "outputs": []
    },
    {
      "cell_type": "code",
      "metadata": {
        "colab": {
          "base_uri": "https://localhost:8080/"
        },
        "id": "_R9y-GCy05oQ",
        "outputId": "8c2e5052-f77e-4fc0-bedb-85fca07ed914"
      },
      "source": [
        "c = y_test.value_counts()\n",
        "print(c)\n",
        "labels = c.keys().sort_values()"
      ],
      "execution_count": null,
      "outputs": [
        {
          "output_type": "stream",
          "name": "stdout",
          "text": [
            "other_relevant_information                1489\n",
            "not_humanitarian                          1137\n",
            "rescue_volunteering_or_donation_effort     823\n",
            "infrastructure_and_utility_damage          303\n",
            "injured_or_dead_people                     122\n",
            "affected_individuals                       118\n",
            "vehicle_damage                              13\n",
            "missing_or_found_people                     10\n",
            "Name: label_text, dtype: int64\n"
          ]
        }
      ]
    },
    {
      "cell_type": "code",
      "metadata": {
        "colab": {
          "base_uri": "https://localhost:8080/",
          "height": 794
        },
        "id": "DA2stmH0rCUr",
        "outputId": "06af88ba-52b6-47a9-e01a-320ca2219dd1"
      },
      "source": [
        "from sklearn.metrics import confusion_matrix\n",
        "conf_mat = confusion_matrix(y_test, y_pred)\n",
        "fig, ax = plt.subplots(figsize=(10,10))\n",
        "sns.heatmap(conf_mat, annot=True, fmt='d',\n",
        "            xticklabels=labels, yticklabels=labels)\n",
        "# sns.heatmap(conf_mat/conf_mat.sum(1), annot=True, fmt='.2f',\n",
        "#             xticklabels=labels, yticklabels=labels)\n",
        "plt.ylabel('Actual')\n",
        "plt.xlabel('Predicted')\n",
        "plt.show()"
      ],
      "execution_count": null,
      "outputs": [
        {
          "output_type": "display_data",
          "data": {
            "image/png": "[encoded data removed]",
            "text/plain": [
              "<Figure size 720x720 with 2 Axes>"
            ]
          },
          "metadata": {
            "needs_background": "light"
          }
        }
      ]
    },
    {
      "cell_type": "code",
      "metadata": {
        "colab": {
          "base_uri": "https://localhost:8080/"
        },
        "id": "4SploHIEtbup",
        "outputId": "3aea170e-f9b2-41cb-f286-b71778ee85c6"
      },
      "source": [
        "from sklearn import metrics\n",
        "print(metrics.classification_report(y_test, y_pred, target_names=labels, zero_division=0))"
      ],
      "execution_count": null,
      "outputs": [
        {
          "output_type": "stream",
          "name": "stdout",
          "text": [
            "                                        precision    recall  f1-score   support\n",
            "\n",
            "                  affected_individuals       0.36      0.04      0.08       118\n",
            "     infrastructure_and_utility_damage       0.68      0.26      0.37       303\n",
            "                injured_or_dead_people       0.90      0.62      0.74       122\n",
            "               missing_or_found_people       0.00      0.00      0.00        10\n",
            "                      not_humanitarian       0.63      0.59      0.61      1137\n",
            "            other_relevant_information       0.60      0.78      0.68      1489\n",
            "rescue_volunteering_or_donation_effort       0.75      0.73      0.74       823\n",
            "                        vehicle_damage       0.00      0.00      0.00        13\n",
            "\n",
            "                              accuracy                           0.65      4015\n",
            "                             macro avg       0.49      0.38      0.40      4015\n",
            "                          weighted avg       0.65      0.65      0.63      4015\n",
            "\n"
          ]
        }
      ]
    },
    {
      "cell_type": "markdown",
      "metadata": {
        "id": "NRm0WiFgMLam"
      },
      "source": [
        "### NN"
      ]
    },
    {
      "cell_type": "code",
      "metadata": {
        "colab": {
          "base_uri": "https://localhost:8080/"
        },
        "id": "vdP8ltnINiFE",
        "outputId": "2c8caa2e-e43d-464f-e676-628312f52c0b"
      },
      "source": [
        "corpus = ' '.join(df_text['tweet_text']).split()\n",
        "corpus = set(corpus)\n",
        "print(len(corpus))"
      ],
      "execution_count": null,
      "outputs": [
        {
          "output_type": "stream",
          "name": "stdout",
          "text": [
            "17470\n"
          ]
        }
      ]
    },
    {
      "cell_type": "markdown",
      "metadata": {
        "id": "7Lm78o8kriEu"
      },
      "source": [
        "https://cnvrg.io/cnn-sentence-classification/  \n",
        "https://realpython.com/python-keras-text-classification/#what-is-a-word-embedding"
      ]
    },
    {
      "cell_type": "code",
      "metadata": {
        "id": "IFoZUGS1MJEB"
      },
      "source": [
        "from tensorflow.keras.preprocessing.text import one_hot\n",
        "\n",
        "vocab_size = 10000\n",
        "\n",
        "X_train_nn = [one_hot(d, vocab_size, filters='!\"#$%&()*+,-./:;<=>?@[\\]^_`{|}~',lower=True, split=' ') for d in X_train]\n",
        "X_test_nn = [one_hot(d, vocab_size, filters='!\"#$%&()*+,-./:;<=>?@[\\]^_`{|}~',lower=True, split=' ') for d in X_test]\n",
        "\n",
        "from tensorflow.keras.preprocessing.sequence import pad_sequences\n",
        "\n",
        "max_length = 30\n",
        "X_train_nn = pad_sequences(X_train_nn, maxlen=max_length, padding='post')\n",
        "X_test_nn = pad_sequences(X_test_nn, maxlen=max_length, padding='post')"
      ],
      "execution_count": null,
      "outputs": []
    },
    {
      "cell_type": "code",
      "metadata": {
        "colab": {
          "base_uri": "https://localhost:8080/"
        },
        "id": "mi7g-DA9ZsLt",
        "outputId": "757aaa33-46b7-48df-d490-31a34605eda2"
      },
      "source": [
        "X_train_nn[0]"
      ],
      "execution_count": null,
      "outputs": [
        {
          "output_type": "execute_result",
          "data": {
            "text/plain": [
              "array([3293,  979, 5212, 5190,  367,  861,    0,    0,    0,    0,    0,\n",
              "          0,    0,    0,    0,    0,    0,    0,    0,    0,    0,    0,\n",
              "          0,    0,    0], dtype=int32)"
            ]
          },
          "metadata": {},
          "execution_count": 43
        }
      ]
    },
    {
      "cell_type": "code",
      "metadata": {
        "id": "jjjUOlYpVGS8"
      },
      "source": [
        "from sklearn import preprocessing\n",
        "le = preprocessing.LabelEncoder()\n",
        "y_train_nn = le.fit_transform(y_train)\n",
        "y_test_nn = le.fit_transform(y_test)\n",
        "\n",
        "from tensorflow.keras.utils import to_categorical\n",
        "y_train_nn = to_categorical(y_train_nn)\n",
        "y_test_nn = to_categorical(y_test_nn)"
      ],
      "execution_count": null,
      "outputs": []
    },
    {
      "cell_type": "code",
      "metadata": {
        "colab": {
          "base_uri": "https://localhost:8080/"
        },
        "id": "UyHYM8rwbAng",
        "outputId": "17d061df-d729-4f6f-bf0a-fa4ed7d5835f"
      },
      "source": [
        "y_test_nn"
      ],
      "execution_count": null,
      "outputs": [
        {
          "output_type": "execute_result",
          "data": {
            "text/plain": [
              "array([[0., 1., 0., ..., 0., 0., 0.],\n",
              "       [0., 0., 0., ..., 0., 0., 0.],\n",
              "       [0., 0., 0., ..., 0., 1., 0.],\n",
              "       ...,\n",
              "       [0., 0., 0., ..., 1., 0., 0.],\n",
              "       [0., 0., 0., ..., 1., 0., 0.],\n",
              "       [0., 0., 0., ..., 1., 0., 0.]], dtype=float32)"
            ]
          },
          "metadata": {},
          "execution_count": 45
        }
      ]
    },
    {
      "cell_type": "code",
      "metadata": {
        "colab": {
          "base_uri": "https://localhost:8080/"
        },
        "id": "1CxKIRBcOoLP",
        "outputId": "0eeb7c84-656f-4f22-f05c-eb786bc8ade6"
      },
      "source": [
        "from tensorflow.keras.layers import Dense, Embedding, GlobalMaxPooling1D, Conv1D, Dropout\n",
        "from tensorflow.keras.models import Sequential\n",
        "\n",
        "embed_dim = 8\n",
        "num_classes = len(labels)\n",
        "\n",
        "model = Sequential([\n",
        "                    Embedding(vocab_size, embed_dim, input_length=max_length),\n",
        "                    Conv1D(128, 5, activation='relu'),\n",
        "                    GlobalMaxPooling1D(),\n",
        "                    Dense(10, activation='relu'),\n",
        "                    Dense(num_classes, activation='softmax')\n",
        "])\n",
        "\n",
        "model.summary()"
      ],
      "execution_count": null,
      "outputs": [
        {
          "output_type": "stream",
          "name": "stdout",
          "text": [
            "Model: \"sequential_8\"\n",
            "_________________________________________________________________\n",
            "Layer (type)                 Output Shape              Param #   \n",
            "=================================================================\n",
            "embedding_9 (Embedding)      (None, 30, 8)             80000     \n",
            "_________________________________________________________________\n",
            "conv1d_9 (Conv1D)            (None, 26, 128)           5248      \n",
            "_________________________________________________________________\n",
            "global_max_pooling1d_8 (Glob (None, 128)               0         \n",
            "_________________________________________________________________\n",
            "dense_16 (Dense)             (None, 10)                1290      \n",
            "_________________________________________________________________\n",
            "dense_17 (Dense)             (None, 8)                 88        \n",
            "=================================================================\n",
            "Total params: 86,626\n",
            "Trainable params: 86,626\n",
            "Non-trainable params: 0\n",
            "_________________________________________________________________\n"
          ]
        }
      ]
    },
    {
      "cell_type": "code",
      "metadata": {
        "id": "Ua2HRRDSdr66"
      },
      "source": [
        "from tensorflow.keras.optimizers import Adam\n",
        "\n",
        "model.compile(optimizer=Adam(learning_rate=0.00015), loss='categorical_crossentropy', \n",
        "              metrics=['categorical_accuracy'])"
      ],
      "execution_count": null,
      "outputs": []
    },
    {
      "cell_type": "code",
      "metadata": {
        "colab": {
          "base_uri": "https://localhost:8080/"
        },
        "id": "QqAXNMRLO2qD",
        "outputId": "d2919205-259f-46c5-e992-c8dca205f518"
      },
      "source": [
        "history = model.fit(X_train_nn, y_train_nn, epochs=10, validation_split=0.2)"
      ],
      "execution_count": null,
      "outputs": [
        {
          "output_type": "stream",
          "name": "stdout",
          "text": [
            "Epoch 1/10\n",
            "302/302 [==============================] - 2s 6ms/step - loss: 1.7758 - categorical_accuracy: 0.3109 - val_loss: 1.5505 - val_categorical_accuracy: 0.3574\n",
            "Epoch 2/10\n",
            "302/302 [==============================] - 2s 5ms/step - loss: 1.5217 - categorical_accuracy: 0.3741 - val_loss: 1.4989 - val_categorical_accuracy: 0.3574\n",
            "Epoch 3/10\n",
            "302/302 [==============================] - 2s 5ms/step - loss: 1.4629 - categorical_accuracy: 0.3913 - val_loss: 1.4127 - val_categorical_accuracy: 0.4288\n",
            "Epoch 4/10\n",
            "302/302 [==============================] - 2s 6ms/step - loss: 1.3554 - categorical_accuracy: 0.4815 - val_loss: 1.3050 - val_categorical_accuracy: 0.5413\n",
            "Epoch 5/10\n",
            "302/302 [==============================] - 2s 5ms/step - loss: 1.2594 - categorical_accuracy: 0.5696 - val_loss: 1.2387 - val_categorical_accuracy: 0.5720\n",
            "Epoch 6/10\n",
            "302/302 [==============================] - 2s 5ms/step - loss: 1.1824 - categorical_accuracy: 0.6183 - val_loss: 1.1859 - val_categorical_accuracy: 0.5924\n",
            "Epoch 7/10\n",
            "302/302 [==============================] - 2s 5ms/step - loss: 1.1113 - categorical_accuracy: 0.6436 - val_loss: 1.1523 - val_categorical_accuracy: 0.5986\n",
            "Epoch 8/10\n",
            "302/302 [==============================] - 2s 5ms/step - loss: 1.0538 - categorical_accuracy: 0.6595 - val_loss: 1.1292 - val_categorical_accuracy: 0.6027\n",
            "Epoch 9/10\n",
            "302/302 [==============================] - 2s 5ms/step - loss: 1.0032 - categorical_accuracy: 0.6747 - val_loss: 1.1161 - val_categorical_accuracy: 0.6023\n",
            "Epoch 10/10\n",
            "302/302 [==============================] - 2s 5ms/step - loss: 0.9578 - categorical_accuracy: 0.6906 - val_loss: 1.1107 - val_categorical_accuracy: 0.6032\n"
          ]
        }
      ]
    },
    {
      "cell_type": "code",
      "metadata": {
        "colab": {
          "base_uri": "https://localhost:8080/",
          "height": 573
        },
        "id": "O648xXxxieKG",
        "outputId": "cd0e3820-5f5d-4ccd-a167-dbac8fc7a2bf"
      },
      "source": [
        "# summarize history for acc\n",
        "plt.plot(history.history['categorical_accuracy'])\n",
        "plt.plot(history.history['val_categorical_accuracy'])\n",
        "plt.title('model acc')\n",
        "plt.ylabel('acc')\n",
        "plt.xlabel('epoch')\n",
        "plt.legend(['train', 'val'], loc='upper left')\n",
        "plt.show()\n",
        "\n",
        "# summarize history for loss\n",
        "plt.plot(history.history['loss'])\n",
        "plt.plot(history.history['val_loss'])\n",
        "plt.title('model loss')\n",
        "plt.ylabel('loss')\n",
        "plt.xlabel('epoch')\n",
        "plt.legend(['train', 'val'], loc='upper left')\n",
        "plt.show()"
      ],
      "execution_count": null,
      "outputs": [
        {
          "output_type": "display_data",
          "data": {
            "image/png": "[encoded data removed]",
            "text/plain": [
              "<Figure size 432x288 with 1 Axes>"
            ]
          },
          "metadata": {
            "needs_background": "light"
          }
        },
        {
          "output_type": "display_data",
          "data": {
            "image/png": "[encoded data removed]",
            "text/plain": [
              "<Figure size 432x288 with 1 Axes>"
            ]
          },
          "metadata": {
            "needs_background": "light"
          }
        }
      ]
    },
    {
      "cell_type": "code",
      "metadata": {
        "colab": {
          "base_uri": "https://localhost:8080/"
        },
        "id": "-Z6qEfr3c6Ui",
        "outputId": "0f58f316-ec42-4ac5-b006-6cdc058a0db0"
      },
      "source": [
        "loss, acc = model.evaluate(X_test_nn, y_test_nn)"
      ],
      "execution_count": null,
      "outputs": [
        {
          "output_type": "stream",
          "name": "stdout",
          "text": [
            "126/126 [==============================] - 0s 2ms/step - loss: 1.1299 - categorical_accuracy: 0.6045\n"
          ]
        }
      ]
    },
    {
      "cell_type": "markdown",
      "metadata": {
        "id": "I3FrzRVixb0Z"
      },
      "source": [
        "# Examine results"
      ]
    },
    {
      "cell_type": "code",
      "metadata": {
        "colab": {
          "base_uri": "https://localhost:8080/"
        },
        "id": "N7MCWtWaxe0G",
        "outputId": "1fcb4139-ea62-4507-af64-025178d413ad"
      },
      "source": [
        "from sklearn.metrics import roc_curve, roc_auc_score\n",
        "y_prob_pred = pipeline.predict_proba(X_test)\n",
        "roc_auc_score(y_test, y_prob_pred, multi_class='ovr', average='weighted')"
      ],
      "execution_count": null,
      "outputs": [
        {
          "output_type": "execute_result",
          "data": {
            "text/plain": [
              "0.8643811434723794"
            ]
          },
          "metadata": {},
          "execution_count": 89
        }
      ]
    },
    {
      "cell_type": "code",
      "metadata": {
        "id": "F4jcZ2Kjywf2"
      },
      "source": [
        "y_test_codes = pd.Categorical(y_test).codes"
      ],
      "execution_count": null,
      "outputs": []
    },
    {
      "cell_type": "code",
      "metadata": {
        "colab": {
          "base_uri": "https://localhost:8080/",
          "height": 455
        },
        "id": "lOpEIB1dxuxr",
        "outputId": "28c7725a-80c9-4e14-d5e2-1c8e284e539f"
      },
      "source": [
        "# roc curve for classes\n",
        "fpr,tpr,thresh={},{},{}\n",
        "\n",
        "n_class = 8\n",
        "\n",
        "for i in range(8):    \n",
        "    fpr[i], tpr[i], thresh[i] = roc_curve(y_test_codes, y_prob_pred[:,i], pos_label=i)\n",
        "    print(i, labels[i], np.trapz(tpr[i],fpr[i]))\n",
        "    \n",
        "# plotting    \n",
        "plt.plot(fpr[0], tpr[0], linestyle='--',color='orange', label='Class 0 vs Rest')\n",
        "plt.plot(fpr[1], tpr[1], linestyle='--',color='green', label='Class 1 vs Rest')\n",
        "plt.plot(fpr[2], tpr[2], linestyle='--',color='blue', label='Class 2 vs Rest')\n",
        "plt.plot(fpr[3], tpr[3], linestyle='--',color='yellow', label='Class 3 vs Rest')\n",
        "plt.plot(fpr[4], tpr[4], linestyle='--',color='pink', label='Class 4 vs Rest')\n",
        "\n",
        "\n",
        "plt.title('Multiclass ROC curve')\n",
        "plt.xlabel('False Positive Rate')\n",
        "plt.ylabel('True Positive rate')\n",
        "plt.legend(loc='best')\n",
        "plt.title('Multiclass ROC curve')\n",
        "plt.xlabel('False Positive Rate')\n",
        "plt.ylabel('True Positive rate')\n",
        "plt.legend(loc='best')"
      ],
      "execution_count": null,
      "outputs": [
        {
          "output_type": "stream",
          "name": "stdout",
          "text": [
            "0 affected_individuals 0.8888301735798506\n",
            "1 infrastructure_and_utility_damage 0.9074938474450895\n",
            "2 injured_or_dead_people 0.9761383399375929\n",
            "3 missing_or_found_people 0.890461922596754\n",
            "4 not_humanitarian 0.8391884144601053\n",
            "5 other_relevant_information 0.8212397646079165\n",
            "6 rescue_volunteering_or_donation_effort 0.9392889118300003\n",
            "7 vehicle_damage 0.9712451466574406\n"
          ]
        },
        {
          "output_type": "execute_result",
          "data": {
            "text/plain": [
              "<matplotlib.legend.Legend at 0x7f38d6374e50>"
            ]
          },
          "metadata": {},
          "execution_count": 91
        },
        {
          "output_type": "display_data",
          "data": {
            "image/png": "[encoded data removed]",
            "text/plain": [
              "<Figure size 432x288 with 1 Axes>"
            ]
          },
          "metadata": {
            "needs_background": "light"
          }
        }
      ]
    },
    {
      "cell_type": "code",
      "metadata": {
        "id": "YGtBi7-qn525"
      },
      "source": [
        "def see_misclassified(feat, actual, pred):\n",
        "  dfidx = feat.index"
      ],
      "execution_count": null,
      "outputs": []
    },
    {
      "cell_type": "code",
      "metadata": {
        "colab": {
          "base_uri": "https://localhost:8080/",
          "height": 204
        },
        "id": "LuR0zcfnoMke",
        "outputId": "01b35b6a-2edf-4331-c848-27405e670025"
      },
      "source": [
        "df_compare = pd.concat([X_test, y_test], axis=1)\n",
        "df_compare['pred_text'] = y_pred\n",
        "df_compare['match'] = df_compare['label_text']==df_compare['pred_text']\n",
        "df_compare.head()"
      ],
      "execution_count": null,
      "outputs": [
        {
          "output_type": "execute_result",
          "data": {
            "text/html": [
              "<div>\n",
              "<style scoped>\n",
              "    .dataframe tbody tr th:only-of-type {\n",
              "        vertical-align: middle;\n",
              "    }\n",
              "\n",
              "    .dataframe tbody tr th {\n",
              "        vertical-align: top;\n",
              "    }\n",
              "\n",
              "    .dataframe thead th {\n",
              "        text-align: right;\n",
              "    }\n",
              "</style>\n",
              "<table border=\"1\" class=\"dataframe\">\n",
              "  <thead>\n",
              "    <tr style=\"text-align: right;\">\n",
              "      <th></th>\n",
              "      <th>tweet_text</th>\n",
              "      <th>label_text</th>\n",
              "      <th>pred_text</th>\n",
              "      <th>match</th>\n",
              "    </tr>\n",
              "  </thead>\n",
              "  <tbody>\n",
              "    <tr>\n",
              "      <th>9729</th>\n",
              "      <td>hurricane irma recovery day 7 day 8 approximat...</td>\n",
              "      <td>infrastructure_and_utility_damage</td>\n",
              "      <td>other_relevant_information</td>\n",
              "      <td>False</td>\n",
              "    </tr>\n",
              "    <tr>\n",
              "      <th>5265</th>\n",
              "      <td>bvi b c repost MENTION MENTION experience hurr...</td>\n",
              "      <td>not_humanitarian</td>\n",
              "      <td>other_relevant_information</td>\n",
              "      <td>False</td>\n",
              "    </tr>\n",
              "    <tr>\n",
              "      <th>8475</th>\n",
              "      <td>please support gofundme campaign harveykittens...</td>\n",
              "      <td>rescue_volunteering_or_donation_effort</td>\n",
              "      <td>rescue_volunteering_or_donation_effort</td>\n",
              "      <td>True</td>\n",
              "    </tr>\n",
              "    <tr>\n",
              "      <th>978</th>\n",
              "      <td>opinion hurricane maria need reconstitute LINK...</td>\n",
              "      <td>other_relevant_information</td>\n",
              "      <td>other_relevant_information</td>\n",
              "      <td>True</td>\n",
              "    </tr>\n",
              "    <tr>\n",
              "      <th>6126</th>\n",
              "      <td>cu aid hurricaneharvey make donation visit LIN...</td>\n",
              "      <td>rescue_volunteering_or_donation_effort</td>\n",
              "      <td>rescue_volunteering_or_donation_effort</td>\n",
              "      <td>True</td>\n",
              "    </tr>\n",
              "  </tbody>\n",
              "</table>\n",
              "</div>"
            ],
            "text/plain": [
              "                                             tweet_text  ...  match\n",
              "9729  hurricane irma recovery day 7 day 8 approximat...  ...  False\n",
              "5265  bvi b c repost MENTION MENTION experience hurr...  ...  False\n",
              "8475  please support gofundme campaign harveykittens...  ...   True\n",
              "978   opinion hurricane maria need reconstitute LINK...  ...   True\n",
              "6126  cu aid hurricaneharvey make donation visit LIN...  ...   True\n",
              "\n",
              "[5 rows x 4 columns]"
            ]
          },
          "metadata": {},
          "execution_count": 93
        }
      ]
    },
    {
      "cell_type": "code",
      "metadata": {
        "colab": {
          "base_uri": "https://localhost:8080/",
          "height": 419
        },
        "id": "pBFhm8huodW6",
        "outputId": "3df7a8dd-55eb-4e0b-a319-727716c86271"
      },
      "source": [
        "df_compare[(df_compare['match']==False) & (df_compare['label_text']=='affected_individuals') & (df_compare['pred_text']=='other_relevant_information')]"
      ],
      "execution_count": null,
      "outputs": [
        {
          "output_type": "execute_result",
          "data": {
            "text/html": [
              "<div>\n",
              "<style scoped>\n",
              "    .dataframe tbody tr th:only-of-type {\n",
              "        vertical-align: middle;\n",
              "    }\n",
              "\n",
              "    .dataframe tbody tr th {\n",
              "        vertical-align: top;\n",
              "    }\n",
              "\n",
              "    .dataframe thead th {\n",
              "        text-align: right;\n",
              "    }\n",
              "</style>\n",
              "<table border=\"1\" class=\"dataframe\">\n",
              "  <thead>\n",
              "    <tr style=\"text-align: right;\">\n",
              "      <th></th>\n",
              "      <th>tweet_text</th>\n",
              "      <th>label_text</th>\n",
              "      <th>pred_text</th>\n",
              "      <th>match</th>\n",
              "    </tr>\n",
              "  </thead>\n",
              "  <tbody>\n",
              "    <tr>\n",
              "      <th>3912</th>\n",
              "      <td>federal prisoner stranded harvey harris county...</td>\n",
              "      <td>affected_individuals</td>\n",
              "      <td>other_relevant_information</td>\n",
              "      <td>False</td>\n",
              "    </tr>\n",
              "    <tr>\n",
              "      <th>7975</th>\n",
              "      <td>150 nigerian medical student currently strande...</td>\n",
              "      <td>affected_individuals</td>\n",
              "      <td>other_relevant_information</td>\n",
              "      <td>False</td>\n",
              "    </tr>\n",
              "    <tr>\n",
              "      <th>19</th>\n",
              "      <td>rt MENTION deadly california wildfire force th...</td>\n",
              "      <td>affected_individuals</td>\n",
              "      <td>other_relevant_information</td>\n",
              "      <td>False</td>\n",
              "    </tr>\n",
              "    <tr>\n",
              "      <th>10083</th>\n",
              "      <td>hurricane irma richard branson family survive ...</td>\n",
              "      <td>affected_individuals</td>\n",
              "      <td>other_relevant_information</td>\n",
              "      <td>False</td>\n",
              "    </tr>\n",
              "    <tr>\n",
              "      <th>3410</th>\n",
              "      <td>joy amp jerry sleeping crushed stock island ho...</td>\n",
              "      <td>affected_individuals</td>\n",
              "      <td>other_relevant_information</td>\n",
              "      <td>False</td>\n",
              "    </tr>\n",
              "    <tr>\n",
              "      <th>...</th>\n",
              "      <td>...</td>\n",
              "      <td>...</td>\n",
              "      <td>...</td>\n",
              "      <td>...</td>\n",
              "    </tr>\n",
              "    <tr>\n",
              "      <th>5393</th>\n",
              "      <td>hurricane harvey wreckage photo resident face ...</td>\n",
              "      <td>affected_individuals</td>\n",
              "      <td>other_relevant_information</td>\n",
              "      <td>False</td>\n",
              "    </tr>\n",
              "    <tr>\n",
              "      <th>4161</th>\n",
              "      <td>rt MENTION picture edit umbrella upside hurric...</td>\n",
              "      <td>affected_individuals</td>\n",
              "      <td>other_relevant_information</td>\n",
              "      <td>False</td>\n",
              "    </tr>\n",
              "    <tr>\n",
              "      <th>824</th>\n",
              "      <td>rt MENTION survived survive hurricaneharvey LINK</td>\n",
              "      <td>affected_individuals</td>\n",
              "      <td>other_relevant_information</td>\n",
              "      <td>False</td>\n",
              "    </tr>\n",
              "    <tr>\n",
              "      <th>8920</th>\n",
              "      <td>houston resident battle harvey next wave fraud...</td>\n",
              "      <td>affected_individuals</td>\n",
              "      <td>other_relevant_information</td>\n",
              "      <td>False</td>\n",
              "    </tr>\n",
              "    <tr>\n",
              "      <th>1519</th>\n",
              "      <td>heartbreaking image kind people earthquake ker...</td>\n",
              "      <td>affected_individuals</td>\n",
              "      <td>other_relevant_information</td>\n",
              "      <td>False</td>\n",
              "    </tr>\n",
              "  </tbody>\n",
              "</table>\n",
              "<p>70 rows × 4 columns</p>\n",
              "</div>"
            ],
            "text/plain": [
              "                                              tweet_text  ...  match\n",
              "3912   federal prisoner stranded harvey harris county...  ...  False\n",
              "7975   150 nigerian medical student currently strande...  ...  False\n",
              "19     rt MENTION deadly california wildfire force th...  ...  False\n",
              "10083  hurricane irma richard branson family survive ...  ...  False\n",
              "3410   joy amp jerry sleeping crushed stock island ho...  ...  False\n",
              "...                                                  ...  ...    ...\n",
              "5393   hurricane harvey wreckage photo resident face ...  ...  False\n",
              "4161   rt MENTION picture edit umbrella upside hurric...  ...  False\n",
              "824     rt MENTION survived survive hurricaneharvey LINK  ...  False\n",
              "8920   houston resident battle harvey next wave fraud...  ...  False\n",
              "1519   heartbreaking image kind people earthquake ker...  ...  False\n",
              "\n",
              "[70 rows x 4 columns]"
            ]
          },
          "metadata": {},
          "execution_count": 94
        }
      ]
    },
    {
      "cell_type": "code",
      "metadata": {
        "colab": {
          "base_uri": "https://localhost:8080/",
          "height": 328
        },
        "id": "mFLVFquGpkKC",
        "outputId": "c1bf5e90-4ede-45ac-f518-46058d6fea43"
      },
      "source": [
        "df_acc = df_compare.groupby(by=['label_text']).match.aggregate(['sum', 'count'])\n",
        "df_acc['label_acc'] = df_acc['sum']/4015\n",
        "df_acc['label_pc'] = df_acc['count']/4015\n",
        "df_acc"
      ],
      "execution_count": null,
      "outputs": [
        {
          "output_type": "execute_result",
          "data": {
            "text/html": [
              "<div>\n",
              "<style scoped>\n",
              "    .dataframe tbody tr th:only-of-type {\n",
              "        vertical-align: middle;\n",
              "    }\n",
              "\n",
              "    .dataframe tbody tr th {\n",
              "        vertical-align: top;\n",
              "    }\n",
              "\n",
              "    .dataframe thead th {\n",
              "        text-align: right;\n",
              "    }\n",
              "</style>\n",
              "<table border=\"1\" class=\"dataframe\">\n",
              "  <thead>\n",
              "    <tr style=\"text-align: right;\">\n",
              "      <th></th>\n",
              "      <th>sum</th>\n",
              "      <th>count</th>\n",
              "      <th>label_acc</th>\n",
              "      <th>label_pc</th>\n",
              "    </tr>\n",
              "    <tr>\n",
              "      <th>label_text</th>\n",
              "      <th></th>\n",
              "      <th></th>\n",
              "      <th></th>\n",
              "      <th></th>\n",
              "    </tr>\n",
              "  </thead>\n",
              "  <tbody>\n",
              "    <tr>\n",
              "      <th>affected_individuals</th>\n",
              "      <td>5</td>\n",
              "      <td>118</td>\n",
              "      <td>0.001245</td>\n",
              "      <td>0.029390</td>\n",
              "    </tr>\n",
              "    <tr>\n",
              "      <th>infrastructure_and_utility_damage</th>\n",
              "      <td>74</td>\n",
              "      <td>303</td>\n",
              "      <td>0.018431</td>\n",
              "      <td>0.075467</td>\n",
              "    </tr>\n",
              "    <tr>\n",
              "      <th>injured_or_dead_people</th>\n",
              "      <td>76</td>\n",
              "      <td>122</td>\n",
              "      <td>0.018929</td>\n",
              "      <td>0.030386</td>\n",
              "    </tr>\n",
              "    <tr>\n",
              "      <th>missing_or_found_people</th>\n",
              "      <td>0</td>\n",
              "      <td>10</td>\n",
              "      <td>0.000000</td>\n",
              "      <td>0.002491</td>\n",
              "    </tr>\n",
              "    <tr>\n",
              "      <th>not_humanitarian</th>\n",
              "      <td>667</td>\n",
              "      <td>1137</td>\n",
              "      <td>0.166127</td>\n",
              "      <td>0.283188</td>\n",
              "    </tr>\n",
              "    <tr>\n",
              "      <th>other_relevant_information</th>\n",
              "      <td>1178</td>\n",
              "      <td>1489</td>\n",
              "      <td>0.293400</td>\n",
              "      <td>0.370859</td>\n",
              "    </tr>\n",
              "    <tr>\n",
              "      <th>rescue_volunteering_or_donation_effort</th>\n",
              "      <td>605</td>\n",
              "      <td>823</td>\n",
              "      <td>0.150685</td>\n",
              "      <td>0.204981</td>\n",
              "    </tr>\n",
              "    <tr>\n",
              "      <th>vehicle_damage</th>\n",
              "      <td>0</td>\n",
              "      <td>13</td>\n",
              "      <td>0.000000</td>\n",
              "      <td>0.003238</td>\n",
              "    </tr>\n",
              "  </tbody>\n",
              "</table>\n",
              "</div>"
            ],
            "text/plain": [
              "                                         sum  count  label_acc  label_pc\n",
              "label_text                                                              \n",
              "affected_individuals                       5    118   0.001245  0.029390\n",
              "infrastructure_and_utility_damage         74    303   0.018431  0.075467\n",
              "injured_or_dead_people                    76    122   0.018929  0.030386\n",
              "missing_or_found_people                    0     10   0.000000  0.002491\n",
              "not_humanitarian                         667   1137   0.166127  0.283188\n",
              "other_relevant_information              1178   1489   0.293400  0.370859\n",
              "rescue_volunteering_or_donation_effort   605    823   0.150685  0.204981\n",
              "vehicle_damage                             0     13   0.000000  0.003238"
            ]
          },
          "metadata": {},
          "execution_count": 96
        }
      ]
    },
    {
      "cell_type": "markdown",
      "metadata": {
        "id": "R5PUj2_GcAyF"
      },
      "source": [
        "# Temporary section"
      ]
    },
    {
      "cell_type": "code",
      "metadata": {
        "id": "6Ficd4aucGPJ"
      },
      "source": [
        "from sklearn.metrics import classification_report, confusion_matrix\n",
        "import pandas as pd"
      ],
      "execution_count": null,
      "outputs": []
    },
    {
      "cell_type": "code",
      "metadata": {
        "id": "T8sBP_0rcO7g",
        "colab": {
          "base_uri": "https://localhost:8080/"
        },
        "outputId": "f5567b58-871b-47d5-8c05-1b0cd5273bd2"
      },
      "source": [
        "! unzip '/content/humanitarian_SMALL_5classes_withFusion.zip'\n",
        "df_fusion = pd.read_csv('/content/humanitarian_SMALL_5classes_withFusion.tsv', sep='\\t')"
      ],
      "execution_count": null,
      "outputs": [
        {
          "output_type": "stream",
          "name": "stdout",
          "text": [
            "Archive:  /content/humanitarian_SMALL_5classes_withFusion.zip\n",
            "  inflating: humanitarian_SMALL_5classes_withFusion.tsv  \n"
          ]
        }
      ]
    },
    {
      "cell_type": "code",
      "metadata": {
        "colab": {
          "base_uri": "https://localhost:8080/"
        },
        "id": "iexR51Czcoc7",
        "outputId": "6dfac3b5-7b39-4d62-ea1d-ee8e25a97448"
      },
      "source": [
        "label_order = df_fusion.codeorder_label_text.values[0][1:-1].replace(\"'\", \"\").split(',')\n",
        "label_dict = {}\n",
        "for i in range(len(label_order)):\n",
        "  label_dict[label_order[i].strip()] = i\n",
        "\n",
        "print(label_dict)"
      ],
      "execution_count": null,
      "outputs": [
        {
          "output_type": "stream",
          "name": "stdout",
          "text": [
            "{'infrastructure_and_utility_damage': 0, 'other_relevant_information': 1, 'not_humanitarian': 2, 'rescue_volunteering_or_donation_effort': 3, 'affected_individuals': 4}\n"
          ]
        }
      ]
    },
    {
      "cell_type": "code",
      "metadata": {
        "id": "FeTq1-Lzd-08"
      },
      "source": [
        "df_fusion.drop(index=955, inplace=True)"
      ],
      "execution_count": null,
      "outputs": []
    },
    {
      "cell_type": "code",
      "metadata": {
        "id": "2X3IXVMLdt6-"
      },
      "source": [
        "true_vals = [label_dict[l] for l in df_fusion.label_text.values]\n",
        "pred_add_vals = [label_dict[l] for l in df_fusion.label_add.values]\n",
        "pred_max_vals = [label_dict[l] for l in df_fusion.label_max.values]\n",
        "labels = list(label_dict.keys())"
      ],
      "execution_count": null,
      "outputs": []
    },
    {
      "cell_type": "code",
      "metadata": {
        "id": "Tl96oFXjel5K"
      },
      "source": [
        "import seaborn as sns\n",
        "import matplotlib.pyplot as plt\n",
        "\n",
        "def show_confmat(y_true, y_pred, labels):\n",
        "  conf_mat = confusion_matrix(y_true, y_pred)\n",
        "\n",
        "  fig, ax = plt.subplots(figsize=(5,5))\n",
        "  sns.heatmap(conf_mat, annot=True, fmt='d',\n",
        "              xticklabels=labels, yticklabels=labels)\n",
        "\n",
        "  plt.ylabel('Actual')\n",
        "  plt.xlabel('Predicted')\n",
        "  plt.show()"
      ],
      "execution_count": null,
      "outputs": []
    },
    {
      "cell_type": "code",
      "metadata": {
        "colab": {
          "base_uri": "https://localhost:8080/",
          "height": 739
        },
        "id": "5lZgVyePeWRp",
        "outputId": "d105184c-71a6-450e-884a-1ff16e5ba98f"
      },
      "source": [
        "print(classification_report(true_vals, pred_add_vals, target_names=list(label_dict.keys()), zero_division=0, digits=4))\n",
        "show_confmat(true_vals, pred_add_vals, labels)"
      ],
      "execution_count": null,
      "outputs": [
        {
          "output_type": "stream",
          "name": "stdout",
          "text": [
            "                                        precision    recall  f1-score   support\n",
            "\n",
            "     infrastructure_and_utility_damage     0.9545    0.5185    0.6720        81\n",
            "            other_relevant_information     0.8786    0.7702    0.8209       235\n",
            "                      not_humanitarian     0.7769    0.9325    0.8476       504\n",
            "rescue_volunteering_or_donation_effort     0.7700    0.6111    0.6814       126\n",
            "                  affected_individuals     0.0000    0.0000    0.0000         9\n",
            "\n",
            "                              accuracy                         0.8063       955\n",
            "                             macro avg     0.6760    0.5665    0.6044       955\n",
            "                          weighted avg     0.8087    0.8063    0.7962       955\n",
            "\n"
          ]
        },
        {
          "output_type": "display_data",
          "data": {
            "image/png": "[encoded data removed]",
            "text/plain": [
              "<Figure size 360x360 with 2 Axes>"
            ]
          },
          "metadata": {
            "needs_background": "light"
          }
        }
      ]
    },
    {
      "cell_type": "code",
      "metadata": {
        "colab": {
          "base_uri": "https://localhost:8080/",
          "height": 739
        },
        "id": "2RM-r_UlFHFc",
        "outputId": "d1cb678b-f78f-4879-d4f1-937e60f81cb2"
      },
      "source": [
        "print(classification_report(true_vals, pred_max_vals, target_names=list(label_dict.keys()), zero_division=0, digits=4))\n",
        "show_confmat(true_vals, pred_max_vals, labels)"
      ],
      "execution_count": null,
      "outputs": [
        {
          "output_type": "stream",
          "name": "stdout",
          "text": [
            "                                        precision    recall  f1-score   support\n",
            "\n",
            "     infrastructure_and_utility_damage     0.9286    0.4815    0.6341        81\n",
            "            other_relevant_information     0.8696    0.7660    0.8145       235\n",
            "                      not_humanitarian     0.7802    0.9226    0.8455       504\n",
            "rescue_volunteering_or_donation_effort     0.7182    0.6270    0.6695       126\n",
            "                  affected_individuals     0.0000    0.0000    0.0000         9\n",
            "\n",
            "                              accuracy                         0.7990       955\n",
            "                             macro avg     0.6593    0.5594    0.5927       955\n",
            "                          weighted avg     0.7992    0.7990    0.7887       955\n",
            "\n"
          ]
        },
        {
          "output_type": "display_data",
          "data": {
            "image/png": "[encoded data removed]",
            "text/plain": [
              "<Figure size 360x360 with 2 Axes>"
            ]
          },
          "metadata": {
            "needs_background": "light"
          }
        }
      ]
    },
    {
      "cell_type": "code",
      "metadata": {
        "colab": {
          "base_uri": "https://localhost:8080/",
          "height": 739
        },
        "id": "_7yA4IDfPOy5",
        "outputId": "6b821e76-5f7c-4c3f-882f-7c3413703891"
      },
      "source": [
        "pred_img_vals = [label_dict[l] for l in df_fusion.pred_label_img.values]\n",
        "print(classification_report(true_vals, pred_img_vals, target_names=list(label_dict.keys()), zero_division=0, digits=4))\n",
        "show_confmat(true_vals, pred_img_vals, labels)"
      ],
      "execution_count": null,
      "outputs": [
        {
          "output_type": "stream",
          "name": "stdout",
          "text": [
            "                                        precision    recall  f1-score   support\n",
            "\n",
            "     infrastructure_and_utility_damage     0.6111    0.1358    0.2222        81\n",
            "            other_relevant_information     0.7277    0.6596    0.6920       235\n",
            "                      not_humanitarian     0.6636    0.8492    0.7450       504\n",
            "rescue_volunteering_or_donation_effort     0.4051    0.2540    0.3122       126\n",
            "                  affected_individuals     0.0000    0.0000    0.0000         9\n",
            "\n",
            "                              accuracy                         0.6555       955\n",
            "                             macro avg     0.4815    0.3797    0.3943       955\n",
            "                          weighted avg     0.6345    0.6555    0.6235       955\n",
            "\n"
          ]
        },
        {
          "output_type": "display_data",
          "data": {
            "image/png": "[encoded data removed]",
            "text/plain": [
              "<Figure size 360x360 with 2 Axes>"
            ]
          },
          "metadata": {
            "needs_background": "light"
          }
        }
      ]
    },
    {
      "cell_type": "code",
      "metadata": {
        "colab": {
          "base_uri": "https://localhost:8080/",
          "height": 739
        },
        "id": "Qld1xiUWPi42",
        "outputId": "9ed41762-d788-4c61-a5e5-f212225e9afa"
      },
      "source": [
        "pred_text_vals = [label_dict[l] for l in df_fusion.pred_label_text.values]\n",
        "print(classification_report(true_vals, pred_text_vals, target_names=list(label_dict.keys()), zero_division=0, digits=4))\n",
        "show_confmat(true_vals, pred_text_vals, labels)"
      ],
      "execution_count": null,
      "outputs": [
        {
          "output_type": "stream",
          "name": "stdout",
          "text": [
            "                                        precision    recall  f1-score   support\n",
            "\n",
            "     infrastructure_and_utility_damage     0.7403    0.7037    0.7215        81\n",
            "            other_relevant_information     0.8250    0.7021    0.7586       235\n",
            "                      not_humanitarian     0.8250    0.8889    0.8558       504\n",
            "rescue_volunteering_or_donation_effort     0.7185    0.7698    0.7433       126\n",
            "                  affected_individuals     0.0000    0.0000    0.0000         9\n",
            "\n",
            "                              accuracy                         0.8031       955\n",
            "                             macro avg     0.6218    0.6129    0.6158       955\n",
            "                          weighted avg     0.7960    0.8031    0.7976       955\n",
            "\n"
          ]
        },
        {
          "output_type": "display_data",
          "data": {
            "image/png": "[encoded data removed]",
            "text/plain": [
              "<Figure size 360x360 with 2 Axes>"
            ]
          },
          "metadata": {
            "needs_background": "light"
          }
        }
      ]
    },
    {
      "cell_type": "code",
      "metadata": {
        "id": "k_ii7q1QPY05"
      },
      "source": [
        ""
      ],
      "execution_count": null,
      "outputs": []
    }
  ]
}